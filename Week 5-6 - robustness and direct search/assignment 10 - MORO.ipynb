{
 "cells": [
  {
   "cell_type": "markdown",
   "metadata": {},
   "source": [
    "# Multi-objective Robust Optimization (MORO)\n",
    "\n",
    "\n",
    "This exercise demostrates the application of MORO on the lake model. In contrast to the exercises in previous weeks, we will be using a slightly more sophisticated version of the problem. For details see the MORDM assignment for this week.\n",
    "\n",
    "## Setup MORO\n",
    "\n",
    "Many objective robust optimization aims at finding decisions that are robust with respect to the various deeply uncertain factors. For this, MORO evalues each candidate decision over a set of scenarios. For each outcome of interest, the robusntess over this set is calculated. A MOEA is used to maximize the robustness. \n",
    "\n",
    "For this assignment, we will be using a domain criterion as our robustness metric. The table below lists the rules that you should use for each outcome of interest.\n",
    "\n",
    "|Outcome of interest| threhsold  |\n",
    "|-------------------|------------|\n",
    "| Maximum pollution | $\\leq$ 0.75|\n",
    "| Inertia           | $\\geq$ 0.6 |\n",
    "| Reliability       | $\\geq$ 0.99|   \n",
    "| Utility           | $\\geq$ 0.75|\n",
    "\n",
    "**1) Implement a function for each outcome that takes a numpy array with results for the outcome of interest, and returns the robustness score**"
   ]
  },
  {
   "cell_type": "code",
   "execution_count": 1,
   "metadata": {
    "collapsed": true
   },
   "outputs": [],
   "source": [
    "from ema_workbench import (RealParameter, ScalarOutcome, Constant,\n",
    "                           Model)\n",
    "import functools\n",
    "\n",
    "def robustness(direction, threshold, data):\n",
    "    if direction == SMALLER:\n",
    "        return np.sum(data<=threshold)/data.shape[0]\n",
    "    else:\n",
    "        return np.sum(data>=threshold)/data.shape[0]\n",
    "\n",
    "def maxp(data):\n",
    "    return np.sum(data<=0.75)/data.shape[0]\n",
    "    \n",
    "SMALLER = 'SMALLER'\n",
    "LARGER = 'LARGER'\n",
    "\n",
    "maxp = functools.partial(robustness, SMALLER, 0.75)\n",
    "inertia = functools.partial(robustness, LARGER, 0.6)\n",
    "reliability = functools.partial(robustness, LARGER, 0.99)\n",
    "utility = functools.partial(robustness, LARGER, 0.75)\n",
    "\n",
    "MAXIMIZE = ScalarOutcome.MAXIMIZE\n",
    "MINIMIZE = ScalarOutcome.MINIMIZE\n",
    "# choose one, not sure which. \n",
    "# First is okay but not advised. \n",
    "# robustnes_functions = [ScalarOutcome('90th percentile max_p', kind=MINIMIZE,\n",
    "#                              variable_name='max_P', function=maxp),\n",
    "#                        ScalarOutcome('10th percentile reliability', kind=MAXIMIZE,\n",
    "#                              variable_name='reliability', function=reliability),\n",
    "#                        ScalarOutcome('10th percentile inertia', kind=MAXIMIZE,\n",
    "#                              variable_name='inertia', function=inertia),\n",
    "#                        ScalarOutcome('10th percentile utility', kind=MAXIMIZE,\n",
    "#                              variable_name='utility', function=utility)]\n",
    "\n",
    "robustnes_maxp_function = [ScalarOutcome('max_p', kind=MINIMIZE,\n",
    "                             variable_name='max_P', function=maxp)]\n",
    "robustnes_reliability_function = [ScalarOutcome('reliability', kind=MAXIMIZE,\n",
    "                             variable_name='reliability', function=reliability)]\n",
    "robustnes_inertia_function = [ScalarOutcome('inertia', kind=MAXIMIZE,\n",
    "                             variable_name='inertia', function=inertia)]\n",
    "robustnes_utility_function = [ScalarOutcome('utility', kind=MAXIMIZE,\n",
    "                             variable_name='utility', function=utility)]\n",
    "\n",
    "\n"
   ]
  },
  {
   "cell_type": "markdown",
   "metadata": {},
   "source": [
    "**2) Generate 4 random release policies, and evaluate them over 500 scenarios. Sample the scenarios using Monte Carlo sampling. Next evaulate your robustness function for 1, 2, 3, ... 500 scenarios for each outcome and visualize this. What can you tell about the convergernce of the robusntess metric as a function of the number of scenarios?**"
   ]
  },
  {
   "cell_type": "code",
   "execution_count": 2,
   "metadata": {},
   "outputs": [
    {
     "output_type": "stream",
     "name": "stderr",
     "text": "[MainProcess/INFO] pool started\n[MainProcess/INFO] performing 500 scenarios * 4 policies * 1 model(s) = 2000 experiments\n[MainProcess/INFO] 200 cases completed\n[MainProcess/INFO] 400 cases completed\n[MainProcess/INFO] 600 cases completed\n[MainProcess/INFO] 800 cases completed\n[MainProcess/INFO] 1000 cases completed\n[MainProcess/INFO] 1200 cases completed\n[MainProcess/INFO] 1400 cases completed\n[MainProcess/INFO] 1600 cases completed\n[MainProcess/INFO] 1800 cases completed\n[MainProcess/INFO] 2000 cases completed\n[MainProcess/INFO] experiments finished\n[MainProcess/INFO] terminating pool\n"
    }
   ],
   "source": [
    "from ema_workbench import (MultiprocessingEvaluator, ema_logging,\n",
    "                           perform_experiments)\n",
    "from ema_workbench.em_framework.evaluators import MC\n",
    "from dps_lake_model import lake_model as lakeModel\n",
    "lake_model = Model('lakeproblem', function=lakeModel)\n",
    "# instantiate model\n",
    "lake_model.uncertainties = [RealParameter('b', 0.1, 0.45),\n",
    "                                RealParameter('q', 2.0, 4.5),\n",
    "                                RealParameter('mean', 0.01, 0.05),\n",
    "                                RealParameter('stdev', 0.001, 0.005),\n",
    "                                RealParameter('delta', 0.93, 0.99)]\n",
    "\n",
    "# set levers\n",
    "lake_model.levers = [RealParameter(\"c1\", -2, 2),\n",
    "                         RealParameter(\"c2\", -2, 2),\n",
    "                         RealParameter(\"r1\", 0, 2),\n",
    "                         RealParameter(\"r2\", 0, 2),\n",
    "                         RealParameter(\"w1\", 0, 1)\n",
    "                         ]\n",
    "\n",
    "# specify outcomes\n",
    "lake_model.outcomes = [ScalarOutcome('max_P'),\n",
    "                           ScalarOutcome('utility'),\n",
    "                           ScalarOutcome('inertia'),\n",
    "                           ScalarOutcome('reliability')]\n",
    "\n",
    "# override some of the defaults of the model\n",
    "lake_model.constants = [Constant('alpha', 0.41),\n",
    "                            Constant('nsamples', 100),\n",
    "                            Constant('myears', 100)]\n",
    "ema_logging.log_to_stderr(ema_logging.INFO)\n",
    "\n",
    "with MultiprocessingEvaluator(lake_model) as evaluator:\n",
    "    results = evaluator.perform_experiments(scenarios=500, policies=4, uncertainty_sampling=MC)"
   ]
  },
  {
   "cell_type": "code",
   "execution_count": 3,
   "metadata": {},
   "outputs": [],
   "source": [
    "experiments, outcomes = results\n",
    "# print(experiments)\n",
    "maxp_exp = experiments[experiments['policy']%4==0]\n",
    "maxp_exp.drop(columns=['scenario', 'policy', 'model'], inplace=True)\n",
    "# print(maxp_exp)\n",
    "experiments, outcomes = results\n",
    "utility_exp = experiments[experiments['policy']==1]\n",
    "experiments, outcomes = results\n",
    "reliability_exp = experiments[experiments['policy']==2]\n",
    "experiments, outcomes = results\n",
    "inertia_exp = experiments[experiments['policy']==3]\n",
    "\n",
    "# maxp_out = outcomes['max_P'][0:499]\n",
    "selected_scenarios = []\n",
    "\n",
    "from ema_workbench import Scenario\n",
    "\n",
    "for index, row in maxp_exp.iterrows():\n",
    "        selected_scenarios.append(Scenario(str(index), ** row.to_dict()))"
   ]
  },
  {
   "cell_type": "code",
   "execution_count": 13,
   "metadata": {},
   "outputs": [
    {
     "output_type": "error",
     "ename": "AttributeError",
     "evalue": "'str' object has no attribute 'generate_designs'",
     "traceback": [
      "\u001b[1;31m---------------------------------------------------------------------------\u001b[0m",
      "\u001b[1;31mAttributeError\u001b[0m                            Traceback (most recent call last)",
      "\u001b[1;32m<ipython-input-13-b7b51586d792>\u001b[0m in \u001b[0;36m<module>\u001b[1;34m\u001b[0m\n\u001b[0;32m      6\u001b[0m \u001b[1;33m\u001b[0m\u001b[0m\n\u001b[0;32m      7\u001b[0m \u001b[0mn_scenarios\u001b[0m \u001b[1;33m=\u001b[0m \u001b[1;36m500\u001b[0m\u001b[1;33m\u001b[0m\u001b[1;33m\u001b[0m\u001b[0m\n\u001b[1;32m----> 8\u001b[1;33m \u001b[0mscenarios\u001b[0m \u001b[1;33m=\u001b[0m \u001b[0msample_uncertainties\u001b[0m\u001b[1;33m(\u001b[0m\u001b[0mlake_model\u001b[0m\u001b[1;33m,\u001b[0m \u001b[0mn_scenarios\u001b[0m\u001b[1;33m,\u001b[0m \u001b[0msampler\u001b[0m\u001b[1;33m=\u001b[0m\u001b[0mMC\u001b[0m\u001b[1;33m)\u001b[0m\u001b[1;33m\u001b[0m\u001b[1;33m\u001b[0m\u001b[0m\n\u001b[0m\u001b[0;32m      9\u001b[0m \u001b[0mnfe\u001b[0m\u001b[1;33m=\u001b[0m\u001b[1;36m1000\u001b[0m\u001b[1;33m\u001b[0m\u001b[1;33m\u001b[0m\u001b[0m\n\u001b[0;32m     10\u001b[0m \u001b[1;33m\u001b[0m\u001b[0m\n",
      "\u001b[1;32m~\\AppData\\Local\\Programs\\Python\\Python38\\lib\\site-packages\\ema_workbench\\em_framework\\samplers.py\u001b[0m in \u001b[0;36msample_uncertainties\u001b[1;34m(models, n_samples, union, sampler)\u001b[0m\n\u001b[0;32m    494\u001b[0m     '''\n\u001b[0;32m    495\u001b[0m     \u001b[0muncertainties\u001b[0m \u001b[1;33m=\u001b[0m \u001b[0mdetermine_parameters\u001b[0m\u001b[1;33m(\u001b[0m\u001b[0mmodels\u001b[0m\u001b[1;33m,\u001b[0m \u001b[1;34m'uncertainties'\u001b[0m\u001b[1;33m,\u001b[0m \u001b[0munion\u001b[0m\u001b[1;33m=\u001b[0m\u001b[0munion\u001b[0m\u001b[1;33m)\u001b[0m\u001b[1;33m\u001b[0m\u001b[1;33m\u001b[0m\u001b[0m\n\u001b[1;32m--> 496\u001b[1;33m     \u001b[0msamples\u001b[0m \u001b[1;33m=\u001b[0m \u001b[0msampler\u001b[0m\u001b[1;33m.\u001b[0m\u001b[0mgenerate_designs\u001b[0m\u001b[1;33m(\u001b[0m\u001b[0muncertainties\u001b[0m\u001b[1;33m,\u001b[0m \u001b[0mn_samples\u001b[0m\u001b[1;33m)\u001b[0m\u001b[1;33m\u001b[0m\u001b[1;33m\u001b[0m\u001b[0m\n\u001b[0m\u001b[0;32m    497\u001b[0m     \u001b[0msamples\u001b[0m\u001b[1;33m.\u001b[0m\u001b[0mkind\u001b[0m \u001b[1;33m=\u001b[0m \u001b[0mScenario\u001b[0m\u001b[1;33m\u001b[0m\u001b[1;33m\u001b[0m\u001b[0m\n\u001b[0;32m    498\u001b[0m \u001b[1;33m\u001b[0m\u001b[0m\n",
      "\u001b[1;31mAttributeError\u001b[0m: 'str' object has no attribute 'generate_designs'"
     ]
    }
   ],
   "source": [
    "# from ema_workbench import (MultiprocessingEvaluator, ema_logging,\n",
    "#                            perform_experiments)\n",
    "# from ema_workbench.em_framework.evaluators import MC\n",
    "# from ema_workbench.em_framework.samplers import sample_uncertainties\n",
    "# from dps_lake_model import lake_model as lakeModel\n",
    "\n",
    "# n_scenarios = 500\n",
    "# scenarios = sample_uncertainties(lake_model, n_scenarios, sampler=MC)\n",
    "# nfe=1000\n",
    "\n",
    "# with MultiprocessingEvaluator(lake_model) as evaluator:\n",
    "#     results = evaluator.robust_optimize()"
   ]
  },
  {
   "cell_type": "code",
   "execution_count": 4,
   "metadata": {
    "collapsed": true
   },
   "outputs": [
    {
     "output_type": "stream",
     "name": "stderr",
     "text": "[MainProcess/INFO] pool started\n[MainProcess/INFO] generation 0: 0/1000 nfe\n"
    }
   ],
   "source": [
    "from ema_workbench import (MultiprocessingEvaluator, ema_logging,\n",
    "                           perform_experiments)\n",
    "from ema_workbench.em_framework.evaluators import MC\n",
    "from ema_workbench.em_framework.samplers import sample_uncertainties\n",
    "from dps_lake_model import lake_model as lakeModel\n",
    "\n",
    "n_scenarios = 500\n",
    "# scenarios = sample_uncertainties(lake_model, n_scenarios, sampler=MC)\n",
    "nfe=1000\n",
    "\n",
    "# lake_model.outcomes = [ScalarOutcome('max_P')]\n",
    "ema_logging.log_to_stderr(ema_logging.INFO)\n",
    "with MultiprocessingEvaluator(lake_model) as evaluator:\n",
    "    results = evaluator.robust_optimize(robustnes_maxp_function, scenarios=selected_scenarios, nfe=nfe,epsilons=[0,1], logging_freq=1)\n"
   ]
  },
  {
   "cell_type": "markdown",
   "metadata": {},
   "source": [
    "## Searching for candidate solutions\n",
    "Set up the robust optimization problem using the robustness functions you have specified. Assume that you will need 50 scenarios for estimating the robustness. Use $\\epsilon$-progress and hypervolume to track convergence. Solve the optimization problem. As $\\epsilon$ values, you can assume 0.05 for each of the four robustness metrics.\n",
    "\n",
    "*note: this optimization problem is computationally very expensive. Develop and test your code using a sequential evaluator, a low number of function evaluations (e.g., 200), and a low number of scenarios (e.g., 5). Once everything seems to be working replace the sequential evaluator with an multiprocessing or ipyparallel evaluator, and increase the number of nfe and scenarios*.\n"
   ]
  },
  {
   "cell_type": "code",
   "execution_count": null,
   "metadata": {},
   "outputs": [],
   "source": []
  },
  {
   "cell_type": "markdown",
   "metadata": {},
   "source": [
    "**Plot your $\\epsilon$-progress to evaluate convergergence, and visualize the trade-offs using parallel coordinate plots**"
   ]
  },
  {
   "cell_type": "code",
   "execution_count": 33,
   "metadata": {
    "collapsed": true
   },
   "outputs": [],
   "source": []
  },
  {
   "cell_type": "markdown",
   "metadata": {},
   "source": [
    "**What does this plot tell us about the tradeoffs and conflicting objectives?**"
   ]
  },
  {
   "cell_type": "markdown",
   "metadata": {},
   "source": [
    "## Re-evaluate candidate solutions under uncertainty\n",
    "\n",
    "We have used only 50 scenarios for the optimization. Take the results and re-evaluate them over a larger set (assume 1000 scenarios). How different are your results? What does this imply for the assumption of 50 scenarios during robust optimization.\n",
    "\n",
    "*hint: use the to_dict method on a dataframe, next generate Policy objects in a list expression by iterating over the dicts returned by the to_dict method*"
   ]
  },
  {
   "cell_type": "code",
   "execution_count": null,
   "metadata": {
    "collapsed": true
   },
   "outputs": [],
   "source": []
  },
  {
   "cell_type": "markdown",
   "metadata": {},
   "source": [
    "## Comparison\n",
    "If you have time, import your solutions found for MORDM and re-evaluate them over the same set of scnearios as used for re-evaluating the MORO results. Compare the robustness of MORDM and MORO, what do you observe?"
   ]
  },
  {
   "cell_type": "code",
   "execution_count": null,
   "metadata": {},
   "outputs": [],
   "source": []
  }
 ],
 "metadata": {
  "anaconda-cloud": {},
  "kernelspec": {
   "display_name": "Python 3.8.2 64-bit",
   "language": "python",
   "name": "python38264bitc695bbccf217448cbeb1e12ff6afe318"
  },
  "language_info": {
   "codemirror_mode": {
    "name": "ipython",
    "version": 3
   },
   "file_extension": ".py",
   "mimetype": "text/x-python",
   "name": "python",
   "nbconvert_exporter": "python",
   "pygments_lexer": "ipython3",
   "version": "3.8.2-final"
  },
  "latex_envs": {
   "LaTeX_envs_menu_present": true,
   "autocomplete": true,
   "bibliofile": "biblio.bib",
   "cite_by": "apalike",
   "current_citInitial": 1,
   "eqLabelWithNumbers": true,
   "eqNumInitial": 1,
   "hotkeys": {
    "equation": "Ctrl-E",
    "itemize": "Ctrl-I"
   },
   "labels_anchors": false,
   "latex_user_defs": false,
   "report_style_numbering": false,
   "user_envs_cfg": false
  }
 },
 "nbformat": 4,
 "nbformat_minor": 2
}