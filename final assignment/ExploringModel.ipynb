{
 "cells": [
  {
   "cell_type": "markdown",
   "metadata": {},
   "source": [
    "# Model Explorations"
   ]
  },
  {
   "cell_type": "code",
   "execution_count": 3,
   "metadata": {},
   "outputs": [],
   "source": [
    "import numpy as np\n",
    "import scipy as sp\n",
    "import pandas as pd\n",
    "import matplotlib.pyplot as plt\n",
    "import seaborn as sns\n",
    "import networkx as nx\n",
    "from ema_workbench import ema_logging, MultiprocessingEvaluator\n",
    "from ema_workbench import Model, RealParameter, ScalarOutcome, CategoricalParameter, IntegerParameter, BooleanParameter\n",
    "from ema_workbench.em_framework.samplers import sample_uncertainties\n",
    "# from ema_workbench.em_framework.evaluators import MC\n",
    "from dike_model_function import DikeNetwork\n",
    "from problem_formulation import get_model_for_problem_formulation\n",
    "ema_logging.log_to_stderr(ema_logging.INFO)\n",
    "\n",
    "dike_model, planning_steps = get_model_for_problem_formulation(5)"
   ]
  },
  {
   "cell_type": "code",
   "execution_count": null,
   "metadata": {},
   "outputs": [
    {
     "name": "stderr",
     "output_type": "stream",
     "text": [
      "[MainProcess/INFO] pool started\n",
      "[MainProcess/INFO] performing 10000 scenarios * 10 policies * 1 model(s) = 100000 experiments\n",
      "[MainProcess/INFO] 1000 cases completed\n",
      "[MainProcess/INFO] 2000 cases completed\n",
      "[MainProcess/INFO] 3000 cases completed\n",
      "[MainProcess/INFO] 4000 cases completed\n",
      "[MainProcess/INFO] 5000 cases completed\n",
      "[MainProcess/INFO] 6000 cases completed\n",
      "[MainProcess/INFO] 7000 cases completed\n",
      "[MainProcess/INFO] 8000 cases completed\n",
      "[MainProcess/INFO] 9000 cases completed\n",
      "[MainProcess/INFO] 10000 cases completed\n",
      "[MainProcess/INFO] 11000 cases completed\n",
      "[MainProcess/INFO] 12000 cases completed\n",
      "[MainProcess/INFO] 13000 cases completed\n",
      "[MainProcess/INFO] 14000 cases completed\n",
      "[MainProcess/INFO] 15000 cases completed\n",
      "[MainProcess/INFO] 16000 cases completed\n",
      "[MainProcess/INFO] 17000 cases completed\n",
      "[MainProcess/INFO] 18000 cases completed\n",
      "[MainProcess/INFO] 19000 cases completed\n",
      "[MainProcess/INFO] 20000 cases completed\n",
      "[MainProcess/INFO] 21000 cases completed\n",
      "[MainProcess/INFO] 22000 cases completed\n",
      "[MainProcess/INFO] 23000 cases completed\n",
      "[MainProcess/INFO] 24000 cases completed\n",
      "[MainProcess/INFO] 25000 cases completed\n",
      "[MainProcess/INFO] 26000 cases completed\n",
      "[MainProcess/INFO] 27000 cases completed\n",
      "[MainProcess/INFO] 28000 cases completed\n",
      "[MainProcess/INFO] 29000 cases completed\n",
      "[MainProcess/INFO] 30000 cases completed\n",
      "[MainProcess/INFO] 31000 cases completed\n",
      "[MainProcess/INFO] 32000 cases completed\n",
      "[MainProcess/INFO] 33000 cases completed\n",
      "[MainProcess/INFO] 34000 cases completed\n",
      "[MainProcess/INFO] 35000 cases completed\n",
      "[MainProcess/INFO] 36000 cases completed\n",
      "[MainProcess/INFO] 37000 cases completed\n",
      "[MainProcess/INFO] 38000 cases completed\n",
      "[MainProcess/INFO] 39000 cases completed\n",
      "[MainProcess/INFO] 40000 cases completed\n",
      "[MainProcess/INFO] 41000 cases completed\n",
      "[MainProcess/INFO] 42000 cases completed\n",
      "[MainProcess/INFO] 43000 cases completed\n",
      "[MainProcess/INFO] 44000 cases completed\n",
      "[MainProcess/INFO] 45000 cases completed\n",
      "[MainProcess/INFO] 46000 cases completed\n",
      "[MainProcess/INFO] 47000 cases completed\n",
      "[MainProcess/INFO] 48000 cases completed\n",
      "[MainProcess/INFO] 49000 cases completed\n",
      "[MainProcess/INFO] 50000 cases completed\n",
      "[MainProcess/INFO] 51000 cases completed\n",
      "[MainProcess/INFO] 52000 cases completed\n",
      "[MainProcess/INFO] 53000 cases completed\n",
      "[MainProcess/INFO] 54000 cases completed\n",
      "[MainProcess/INFO] 55000 cases completed\n",
      "[MainProcess/INFO] 56000 cases completed\n",
      "[MainProcess/INFO] 57000 cases completed\n",
      "[MainProcess/INFO] 58000 cases completed\n",
      "[MainProcess/INFO] 59000 cases completed\n",
      "[MainProcess/INFO] 60000 cases completed\n",
      "[MainProcess/INFO] 61000 cases completed\n",
      "[MainProcess/INFO] 62000 cases completed\n",
      "[MainProcess/INFO] 63000 cases completed\n",
      "[MainProcess/INFO] 64000 cases completed\n",
      "[MainProcess/INFO] 65000 cases completed\n",
      "[MainProcess/INFO] 66000 cases completed\n",
      "[MainProcess/INFO] 67000 cases completed\n",
      "[MainProcess/INFO] 68000 cases completed\n"
     ]
    }
   ],
   "source": [
    "ema_logging.log_to_stderr(ema_logging.INFO)\n",
    "\n",
    "with MultiprocessingEvaluator(dike_model) as evaluator:\n",
    "    results = evaluator.perform_experiments(scenarios=10000,               #500\n",
    "                                            policies=10,\n",
    "                                            uncertainty_sampling='mc', reporting_interval=1000)\n",
    "\n",
    "from ema_workbench import save_results\n",
    "\n",
    "save_results(results, './mc50pol10000scen.tar.gz')\n"
   ]
  },
  {
   "cell_type": "markdown",
   "metadata": {},
   "source": [
    "##### @ Martajin, for unknown reasons, I'm not able to run the cell above(maybe it just runs super slow). I thus created another notebook and I used the way in the example (\"ProblemFormulation.ipynb) to import model and perform experiments. It runs faster than this one! \n",
    "\n",
    "@Hongxuan, i f*'ed up. Sorry. Forgot to push my working results. But as you can see the problem was in the outcome. No real outcomes used in the model were defined. It was just a test run, with 10 scenarios to test if this works. This should also work for you. ALthough it still is slow. "
   ]
  },
  {
   "cell_type": "code",
   "execution_count": null,
   "metadata": {},
   "outputs": [],
   "source": [
    "sns.set(style=\"ticks\", color_codes=True)\n",
    "experiments, outcomes = results\n",
    "\n",
    "data = pd.Dataframe(outcomes)\n",
    "\n",
    "sns.pairplot(data, vars=list(outcomes.keys()), diag_kind='hist')\n",
    "plt.show()"
   ]
  },
  {
   "cell_type": "code",
   "execution_count": null,
   "metadata": {},
   "outputs": [],
   "source": [
    "import matplotlib.pyplot as plt # TO DO; plot the scalers.\n",
    "\n",
    "plt.figure(figsize=(10,10), dpi=80)\n",
    "plt.figure(1)\n",
    "ax1 = plt.subplot(221)\n",
    "data['max_P'].hist(color=\"r\")\n",
    "ax2 = plt.subplot(222)\n",
    "data['utility'].hist(color=\"y\")\n",
    "ax3 = plt.subplot(223)\n",
    "data['inertia'].hist(color=\"g\")\n",
    "ax4 = plt.subplot(224)\n",
    "data['reliability'].hist(color=\"b\")"
   ]
  },
  {
   "cell_type": "code",
   "execution_count": null,
   "metadata": {},
   "outputs": [],
   "source": [
    "import functools\n",
    "\n",
    "def robustness(direction, threshold, data):\n",
    "    if direction == SMALLER:\n",
    "        return np.sum(data<=threshold)/data.shape[0]\n",
    "    else:\n",
    "        return np.sum(data>=threshold)/data.shape[0]\n",
    "\n",
    "SMALLER = 'SMALLER'\n",
    "\n",
    "Expected_Number_of_Deaths = functools.partial(robustness, SMALLER, 0.000001) #not ok\n",
    "Expected_Annual_Damage = functools.partial(robustness, SMALLER, 1000) #THOSE NUMBERS NEED TO BE SPECIFIED AGAINS\n",
    "Total_Investment_Costs = functools.partial(robustness, SMALLER, 150000000)#THOSE NUMBERS NEED TO BE SPECIFIED AGAINS\n",
    "\n",
    "from problem_formulation import get_model_for_problem_formulation\n",
    "from ema_workbench.em_framework.evaluators import MC\n",
    "\n",
    "model = get_model_for_problem_formulation(0)\n",
    "from ema_workbench import ema_logging, MultiprocessingEvaluator\n",
    "\n",
    "ema_logging.log_to_stderr(ema_logging.INFO)\n",
    "\n",
    "with MultiprocessingEvaluator(model) as evaluator:\n",
    "    results = evaluator.perform_experiments(scenarios=200,               #500\n",
    "                                            policies=4,\n",
    "                                            uncertainty_sampling=MC)"
   ]
  }
 ],
 "metadata": {
  "kernelspec": {
   "display_name": "python38",
   "language": "python",
   "name": "python38"
  },
  "language_info": {
   "codemirror_mode": {
    "name": "ipython",
    "version": 3
   },
   "file_extension": ".py",
   "mimetype": "text/x-python",
   "name": "python",
   "nbconvert_exporter": "python",
   "pygments_lexer": "ipython3",
   "version": "3.8.3"
  }
 },
 "nbformat": 4,
 "nbformat_minor": 4
}
