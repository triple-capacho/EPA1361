{
 "cells": [
  {
   "cell_type": "markdown",
   "metadata": {},
   "source": [
    "# Model Explorations"
   ]
  },
  {
   "cell_type": "code",
   "execution_count": 8,
   "metadata": {},
   "outputs": [],
   "source": [
    "from ema_workbench import ema_logging, MultiprocessingEvaluator, SequentialEvaluator\n",
    "from dike_model_function import DikeNetwork\n",
    "from ema_workbench import Model, RealParameter, ScalarOutcome, CategoricalParameter, IntegerParameter, BooleanParameter\n",
    "# from ema_workbench.em_framework.evaluators import MC\n",
    "ema_logging.log_to_stderr(ema_logging.INFO)\n",
    "\n",
    "function = DikeNetwork()\n",
    "# workbench model:\n",
    "dike_model = Model('dikesnet', function=function)\n",
    "\n",
    "# Uncertainties and Levers:\n",
    "# Specify uncertainties range:\n",
    "Real_uncert = {'Bmax': [30, 350], 'pfail': [0, 1]}  # m and [.]\n",
    "# breach growth rate [m/day]\n",
    "cat_uncert_loc = {'Brate': (1., 1.5, 10)}\n",
    "\n",
    "cat_uncert = {'discount rate {}'.format(n): (1.5, 2.5, 3.5, 4.5)\n",
    "                for n in function.planning_steps}\n",
    "\n",
    "Int_uncert = {'A.0_ID flood wave shape': [0, 132]}\n",
    "# Range of dike heightening:\n",
    "dike_lev = {'DikeIncrease': [0, 10]}    # dm\n",
    "\n",
    "# Series of five Room for the River projects:\n",
    "rfr_lev = ['{}_RfR'.format(project_id) for project_id in range(0, 5)]\n",
    "\n",
    "# Time of warning: 0, 1, 2, 3, 4 days ahead from the flood\n",
    "EWS_lev = {'EWS_DaysToThreat': [0, 4]}  # days\n",
    "\n",
    "uncertainties = []\n",
    "levers = []\n",
    "\n",
    "for uncert_name in cat_uncert.keys():\n",
    "    categories = cat_uncert[uncert_name]\n",
    "    uncertainties.append(CategoricalParameter(uncert_name, categories))\n",
    "\n",
    "for uncert_name in Int_uncert.keys():\n",
    "    uncertainties.append(IntegerParameter(uncert_name, \n",
    "                                            Int_uncert[uncert_name][0],\n",
    "                                            Int_uncert[uncert_name][1]))    \n",
    "\n",
    "# RfR levers can be either 0 (not implemented) or 1 (implemented)\n",
    "for lev_name in rfr_lev:\n",
    "    for n in function.planning_steps:\n",
    "        lev_name_ = '{} {}'.format(lev_name, n)\n",
    "        levers.append(IntegerParameter(lev_name_, 0, 1))\n",
    "\n",
    "# Early Warning System lever\n",
    "for lev_name in EWS_lev.keys():\n",
    "    levers.append(IntegerParameter(lev_name, EWS_lev[lev_name][0],\n",
    "                                    EWS_lev[lev_name][1]))\n",
    "\n",
    "for dike in function.dikelist:\n",
    "    # uncertainties in the form: locationName_uncertaintyName\n",
    "    for uncert_name in Real_uncert.keys():\n",
    "        name = \"{}_{}\".format(dike, uncert_name)\n",
    "        lower, upper = Real_uncert[uncert_name]\n",
    "        uncertainties.append(RealParameter(name, lower, upper))\n",
    "\n",
    "    for uncert_name in cat_uncert_loc.keys():\n",
    "        name = \"{}_{}\".format(dike, uncert_name)\n",
    "        categories = cat_uncert_loc[uncert_name]\n",
    "        uncertainties.append(CategoricalParameter(name, categories))\n",
    "\n",
    "    # location-related levers in the form: locationName_leversName\n",
    "    for lev_name in dike_lev.keys():\n",
    "        for n in function.planning_steps:\n",
    "            name = \"{}_{} {}\".format(dike, lev_name, n)\n",
    "            levers.append(IntegerParameter(name, dike_lev[lev_name][0],\n",
    "                                        dike_lev[lev_name][1]))\n",
    "\n",
    "# load uncertainties and levers in dike_model:\n",
    "dike_model.uncertainties = uncertainties\n",
    "dike_model.levers = levers\n",
    "\n",
    "variable_names = []\n",
    "variable_names_ = []\n",
    "\n",
    "for n in function.planning_steps:\n",
    "    \n",
    "    variable_names.extend(\n",
    "        ['{}_{} {}'.format(dike, e, n) for e in [\n",
    "            'Expected Annual Damage', 'Dike Investment Costs'] for dike in function.dikelist])\n",
    "\n",
    "    variable_names_.extend(\n",
    "        ['{}_{} {}'.format(dike, e, n) for e in [\n",
    "            'Expected Number of Deaths'] for dike in function.dikelist])\n",
    "\n",
    "    variable_names.extend(['RfR Total Costs {}'.format(n)])\n",
    "    variable_names.extend(['Expected Evacuation Costs {}'.format(n)])\n",
    "\n",
    "dike_model.outcomes = [ScalarOutcome('A.1_Expected Annual Damage 0'),\n",
    "                            ScalarOutcome('A.1_Expected Number of Deaths 0')]"
   ]
  },
  {
   "cell_type": "code",
   "execution_count": 2,
   "metadata": {},
   "outputs": [
    {
     "output_type": "stream",
     "name": "stderr",
     "text": "[MainProcess/INFO] pool started\n[MainProcess/INFO] performing 10 scenarios * 4 policies * 1 model(s) = 40 experiments\n[MainProcess/INFO] 4 cases completed\n[MainProcess/INFO] 8 cases completed\n[MainProcess/INFO] 12 cases completed\n[MainProcess/INFO] 16 cases completed\n[MainProcess/INFO] 20 cases completed\n[MainProcess/INFO] 24 cases completed\n[MainProcess/INFO] 28 cases completed\n[MainProcess/INFO] 32 cases completed\n[MainProcess/INFO] 36 cases completed\n[MainProcess/INFO] 40 cases completed\n[MainProcess/INFO] experiments finished\n[MainProcess/INFO] terminating pool\n"
    }
   ],
   "source": [
>>>>>>> FinalAssignment
    "from ema_workbench import ema_logging, MultiprocessingEvaluator\n",
    "\n",
    "ema_logging.log_to_stderr(ema_logging.INFO)\n",
    "\n",
    "with MultiprocessingEvaluator(dike_model) as evaluator:\n",
    "    results = evaluator.perform_experiments(scenarios=10,               #500\n",
    "                                            policies=4,\n",
    "                                            uncertainty_sampling='mc')"
   ]
  },
  {
   "cell_type": "markdown",
   "metadata": {},
   "source": [
    "##### @ Martajin, for unknown reasons, I'm not able to run the cell above(maybe it just runs super slow). I thus created another notebook and I used the way in the example (\"ProblemFormulation.ipynb) to import model and perform experiments. It runs faster than this one! \n",
    "\n",
    "@Hongxuan, i f*'ed up. Sorry. Forgot to push my working results. But as you can see the problem was in the outcome. No real outcomes used in the model were defined. It was just a test run, with 10 scenarios to test if this works. This should also work for you. ALthough it still is slow. "
   ]
  },
  {
   "cell_type": "code",
   "execution_count": null,
   "metadata": {},
   "outputs": [],
   "source": [
    "experiments, outcomes = results"
   ]
  },
  {
   "cell_type": "code",
<<<<<<< HEAD
   "execution_count": 2,
   "metadata": {},
   "outputs": [
    {
     "output_type": "stream",
     "name": "stderr",
     "text": "[MainProcess/INFO] pool started\n[MainProcess/INFO] terminating pool\n"
    },
    {
     "output_type": "error",
     "ename": "AttributeError",
     "evalue": "'numpy.ndarray' object has no attribute 'uncertainties'",
     "traceback": [
      "\u001b[1;31m---------------------------------------------------------------------------\u001b[0m",
      "\u001b[1;31mAttributeError\u001b[0m                            Traceback (most recent call last)",
      "\u001b[1;32m<ipython-input-2-99ab021d61f1>\u001b[0m in \u001b[0;36m<module>\u001b[1;34m\u001b[0m\n\u001b[0;32m     22\u001b[0m \u001b[1;33m\u001b[0m\u001b[0m\n\u001b[0;32m     23\u001b[0m \u001b[1;32mwith\u001b[0m \u001b[0mMultiprocessingEvaluator\u001b[0m\u001b[1;33m(\u001b[0m\u001b[0mmodel\u001b[0m\u001b[1;33m)\u001b[0m \u001b[1;32mas\u001b[0m \u001b[0mevaluator\u001b[0m\u001b[1;33m:\u001b[0m\u001b[1;33m\u001b[0m\u001b[1;33m\u001b[0m\u001b[0m\n\u001b[1;32m---> 24\u001b[1;33m     results = evaluator.perform_experiments(scenarios=200,               #500\n\u001b[0m\u001b[0;32m     25\u001b[0m                                             \u001b[0mpolicies\u001b[0m\u001b[1;33m=\u001b[0m\u001b[1;36m4\u001b[0m\u001b[1;33m,\u001b[0m\u001b[1;33m\u001b[0m\u001b[1;33m\u001b[0m\u001b[0m\n\u001b[0;32m     26\u001b[0m                                             uncertainty_sampling='mc')\n",
      "\u001b[1;32m~\\AppData\\Local\\Programs\\Python\\Python38\\lib\\site-packages\\ema_workbench\\em_framework\\evaluators.py\u001b[0m in \u001b[0;36mperform_experiments\u001b[1;34m(self, scenarios, policies, reporting_interval, reporting_frequency, uncertainty_union, lever_union, outcome_union, uncertainty_sampling, levers_sampling, callback)\u001b[0m\n\u001b[0;32m    164\u001b[0m \u001b[1;33m\u001b[0m\u001b[0m\n\u001b[0;32m    165\u001b[0m         '''\n\u001b[1;32m--> 166\u001b[1;33m         return perform_experiments(self._msis, scenarios=scenarios,\n\u001b[0m\u001b[0;32m    167\u001b[0m                                    \u001b[0mpolicies\u001b[0m\u001b[1;33m=\u001b[0m\u001b[0mpolicies\u001b[0m\u001b[1;33m,\u001b[0m \u001b[0mevaluator\u001b[0m\u001b[1;33m=\u001b[0m\u001b[0mself\u001b[0m\u001b[1;33m,\u001b[0m\u001b[1;33m\u001b[0m\u001b[1;33m\u001b[0m\u001b[0m\n\u001b[0;32m    168\u001b[0m                                    \u001b[0mreporting_interval\u001b[0m\u001b[1;33m=\u001b[0m\u001b[0mreporting_interval\u001b[0m\u001b[1;33m,\u001b[0m\u001b[1;33m\u001b[0m\u001b[1;33m\u001b[0m\u001b[0m\n",
      "\u001b[1;32m~\\AppData\\Local\\Programs\\Python\\Python38\\lib\\site-packages\\ema_workbench\\em_framework\\evaluators.py\u001b[0m in \u001b[0;36mperform_experiments\u001b[1;34m(models, scenarios, policies, evaluator, reporting_interval, reporting_frequency, uncertainty_union, lever_union, outcome_union, uncertainty_sampling, levers_sampling, callback, return_callback)\u001b[0m\n\u001b[0;32m    397\u001b[0m     \u001b[1;32melif\u001b[0m\u001b[1;33m(\u001b[0m\u001b[0misinstance\u001b[0m\u001b[1;33m(\u001b[0m\u001b[0mscenarios\u001b[0m\u001b[1;33m,\u001b[0m \u001b[0mnumbers\u001b[0m\u001b[1;33m.\u001b[0m\u001b[0mIntegral\u001b[0m\u001b[1;33m)\u001b[0m\u001b[1;33m)\u001b[0m\u001b[1;33m:\u001b[0m\u001b[1;33m\u001b[0m\u001b[1;33m\u001b[0m\u001b[0m\n\u001b[0;32m    398\u001b[0m         \u001b[0msampler\u001b[0m \u001b[1;33m=\u001b[0m \u001b[0mSAMPLERS\u001b[0m\u001b[1;33m[\u001b[0m\u001b[0muncertainty_sampling\u001b[0m\u001b[1;33m]\u001b[0m\u001b[1;33m(\u001b[0m\u001b[1;33m)\u001b[0m\u001b[1;33m\u001b[0m\u001b[1;33m\u001b[0m\u001b[0m\n\u001b[1;32m--> 399\u001b[1;33m         scenarios = sample_uncertainties(models, scenarios, sampler=sampler,\n\u001b[0m\u001b[0;32m    400\u001b[0m                                          union=uncertainty_union)\n\u001b[0;32m    401\u001b[0m         \u001b[0muncertainties\u001b[0m \u001b[1;33m=\u001b[0m \u001b[0mscenarios\u001b[0m\u001b[1;33m.\u001b[0m\u001b[0mparameters\u001b[0m\u001b[1;33m\u001b[0m\u001b[1;33m\u001b[0m\u001b[0m\n",
      "\u001b[1;32m~\\AppData\\Local\\Programs\\Python\\Python38\\lib\\site-packages\\ema_workbench\\em_framework\\samplers.py\u001b[0m in \u001b[0;36msample_uncertainties\u001b[1;34m(models, n_samples, union, sampler)\u001b[0m\n\u001b[0;32m    493\u001b[0m \u001b[1;33m\u001b[0m\u001b[0m\n\u001b[0;32m    494\u001b[0m     '''\n\u001b[1;32m--> 495\u001b[1;33m     \u001b[0muncertainties\u001b[0m \u001b[1;33m=\u001b[0m \u001b[0mdetermine_parameters\u001b[0m\u001b[1;33m(\u001b[0m\u001b[0mmodels\u001b[0m\u001b[1;33m,\u001b[0m \u001b[1;34m'uncertainties'\u001b[0m\u001b[1;33m,\u001b[0m \u001b[0munion\u001b[0m\u001b[1;33m=\u001b[0m\u001b[0munion\u001b[0m\u001b[1;33m)\u001b[0m\u001b[1;33m\u001b[0m\u001b[1;33m\u001b[0m\u001b[0m\n\u001b[0m\u001b[0;32m    496\u001b[0m     \u001b[0msamples\u001b[0m \u001b[1;33m=\u001b[0m \u001b[0msampler\u001b[0m\u001b[1;33m.\u001b[0m\u001b[0mgenerate_designs\u001b[0m\u001b[1;33m(\u001b[0m\u001b[0muncertainties\u001b[0m\u001b[1;33m,\u001b[0m \u001b[0mn_samples\u001b[0m\u001b[1;33m)\u001b[0m\u001b[1;33m\u001b[0m\u001b[1;33m\u001b[0m\u001b[0m\n\u001b[0;32m    497\u001b[0m     \u001b[0msamples\u001b[0m\u001b[1;33m.\u001b[0m\u001b[0mkind\u001b[0m \u001b[1;33m=\u001b[0m \u001b[0mScenario\u001b[0m\u001b[1;33m\u001b[0m\u001b[1;33m\u001b[0m\u001b[0m\n",
      "\u001b[1;32m~\\AppData\\Local\\Programs\\Python\\Python38\\lib\\site-packages\\ema_workbench\\em_framework\\samplers.py\u001b[0m in \u001b[0;36mdetermine_parameters\u001b[1;34m(models, attribute, union)\u001b[0m\n\u001b[0;32m    443\u001b[0m \u001b[1;33m\u001b[0m\u001b[0m\n\u001b[0;32m    444\u001b[0m     '''\n\u001b[1;32m--> 445\u001b[1;33m     \u001b[1;32mreturn\u001b[0m \u001b[0mutil\u001b[0m\u001b[1;33m.\u001b[0m\u001b[0mdetermine_objects\u001b[0m\u001b[1;33m(\u001b[0m\u001b[0mmodels\u001b[0m\u001b[1;33m,\u001b[0m \u001b[0mattribute\u001b[0m\u001b[1;33m,\u001b[0m \u001b[0munion\u001b[0m\u001b[1;33m=\u001b[0m\u001b[0munion\u001b[0m\u001b[1;33m)\u001b[0m\u001b[1;33m\u001b[0m\u001b[1;33m\u001b[0m\u001b[0m\n\u001b[0m\u001b[0;32m    446\u001b[0m \u001b[1;33m\u001b[0m\u001b[0m\n\u001b[0;32m    447\u001b[0m \u001b[1;33m\u001b[0m\u001b[0m\n",
      "\u001b[1;32m~\\AppData\\Local\\Programs\\Python\\Python38\\lib\\site-packages\\ema_workbench\\em_framework\\util.py\u001b[0m in \u001b[0;36mdetermine_objects\u001b[1;34m(models, attribute, union)\u001b[0m\n\u001b[0;32m    229\u001b[0m     \u001b[1;31m# gather parameters across all models\u001b[0m\u001b[1;33m\u001b[0m\u001b[1;33m\u001b[0m\u001b[1;33m\u001b[0m\u001b[0m\n\u001b[0;32m    230\u001b[0m     \u001b[1;32mfor\u001b[0m \u001b[0mmodel\u001b[0m \u001b[1;32min\u001b[0m \u001b[0mmodels\u001b[0m\u001b[1;33m:\u001b[0m\u001b[1;33m\u001b[0m\u001b[1;33m\u001b[0m\u001b[0m\n\u001b[1;32m--> 231\u001b[1;33m         \u001b[0mmodel_params\u001b[0m \u001b[1;33m=\u001b[0m \u001b[0mgetattr\u001b[0m\u001b[1;33m(\u001b[0m\u001b[0mmodel\u001b[0m\u001b[1;33m,\u001b[0m \u001b[0mattribute\u001b[0m\u001b[1;33m)\u001b[0m\u001b[1;33m\u001b[0m\u001b[1;33m\u001b[0m\u001b[0m\n\u001b[0m\u001b[0;32m    232\u001b[0m \u001b[1;33m\u001b[0m\u001b[0m\n\u001b[0;32m    233\u001b[0m         \u001b[1;31m# relies on name based identity, do we want that?\u001b[0m\u001b[1;33m\u001b[0m\u001b[1;33m\u001b[0m\u001b[1;33m\u001b[0m\u001b[0m\n",
      "\u001b[1;31mAttributeError\u001b[0m: 'numpy.ndarray' object has no attribute 'uncertainties'"
     ]
    }
   ],
   "source": []
  },
  {
   "cell_type": "code",
   "execution_count": null,
   "metadata": {},
   "outputs": [],
   "source": []
=======
   "execution_count": null,
   "metadata": {},
   "outputs": [],
   "source": [
    "import functools\n",
    "\n",
    "def robustness(direction, threshold, data):\n",
    "    if direction == SMALLER:\n",
    "        return np.sum(data<=threshold)/data.shape[0]\n",
    "    else:\n",
    "        return np.sum(data>=threshold)/data.shape[0]\n",
    "\n",
    "SMALLER = 'SMALLER'\n",
    "\n",
    "Expected_Number_of_Deaths = functools.partial(robustness, SMALLER, 0.000001) #not ok\n",
    "Expected_Annual_Damage = functools.partial(robustness, SMALLER, 1000) #THOSE NUMBERS NEED TO BE SPECIFIED AGAINS\n",
    "Total_Investment_Costs = functools.partial(robustness, SMALLER, 150000000)#THOSE NUMBERS NEED TO BE SPECIFIED AGAINS\n",
    "\n",
    "from problem_formulation import get_model_for_problem_formulation\n",
    "from ema_workbench.em_framework.evaluators import MC\n",
    "\n",
    "model = get_model_for_problem_formulation(0)\n",
    "from ema_workbench import ema_logging, MultiprocessingEvaluator\n",
    "\n",
    "ema_logging.log_to_stderr(ema_logging.INFO)\n",
    "\n",
    "with MultiprocessingEvaluator(model) as evaluator:\n",
    "    results = evaluator.perform_experiments(scenarios=200,               #500\n",
    "                                            policies=4,\n",
    "                                            uncertainty_sampling=MC)"
   ]
>>>>>>> FinalAssignment
  }
 ],
 "metadata": {
  "kernelspec": {
   "display_name": "Python 3",
   "language": "python",
   "name": "python3"
  },
  "language_info": {
   "codemirror_mode": {
    "name": "ipython",
    "version": 3
   },
   "file_extension": ".py",
   "mimetype": "text/x-python",
   "name": "python",
   "nbconvert_exporter": "python",
   "pygments_lexer": "ipython3",
   "version": "3.8.2-final"
  }
 },
 "nbformat": 4,
 "nbformat_minor": 4
}