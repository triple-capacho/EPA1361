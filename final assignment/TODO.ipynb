{
 "cells": [
  {
   "cell_type": "markdown",
   "metadata": {},
   "source": [
    "# Verify points for other actors\n",
    "\n",
    "--> Transport Levers:\n",
    "      \n",
    "      \n",
    "      \n",
    "    \n",
    "--> OVerijsel\n",
    "    \n",
    "    \n",
    "    \n",
    "--> Gelderland\n",
    "    \n",
    "    \n",
    "    \n",
    "--> Environmentalist\n",
    "    \n",
    "    \n",
    "    \n",
    "--> DC?\n",
    "    \n",
    "    \n",
    "    "
   ]
  },
  {
   "cell_type": "code",
   "execution_count": 4,
   "metadata": {},
   "outputs": [
    {
     "data": {
      "text/plain": [
       "<Logger EMA (DEBUG)>"
      ]
     },
     "execution_count": 4,
     "metadata": {},
     "output_type": "execute_result"
    }
   ],
   "source": [
    "import numpy as np\n",
    "import scipy as sp\n",
    "import pandas as pd\n",
    "import matplotlib.pyplot as plt\n",
    "import seaborn as sns\n",
    "import networkx as nx\n",
    "from ema_workbench import save_results\n",
    "from ema_workbench import ema_logging, MultiprocessingEvaluator\n",
    "from ema_workbench import Model, RealParameter, ScalarOutcome, CategoricalParameter, IntegerParameter, BooleanParameter\n",
    "from ema_workbench.em_framework.samplers import sample_uncertainties\n",
    "# from ema_workbench.em_framework.evaluators import MC\n",
    "from dike_model_function import DikeNetwork\n",
    "from problem_formulation import get_model_for_problem_formulation\n",
    "ema_logging.log_to_stderr(ema_logging.INFO)\n",
    "\n",
    "dike_model, planning_steps = get_model_for_problem_formulation(5)\n",
    "\n",
    "ema_logging.log_to_stderr(ema_logging.INFO)"
   ]
  },
  {
   "cell_type": "code",
   "execution_count": 3,
   "metadata": {},
   "outputs": [
    {
     "name": "stdout",
     "output_type": "stream",
     "text": [
      "'0_RfR 0'\n",
      "IntegerParameter('0_RfR 0', 0, 1)\n",
      "'0_RfR 1'\n",
      "IntegerParameter('0_RfR 1', 0, 1)\n",
      "'0_RfR 2'\n",
      "IntegerParameter('0_RfR 2', 0, 1)\n",
      "'1_RfR 0'\n",
      "IntegerParameter('1_RfR 0', 0, 1)\n",
      "'1_RfR 1'\n",
      "IntegerParameter('1_RfR 1', 0, 1)\n",
      "'1_RfR 2'\n",
      "IntegerParameter('1_RfR 2', 0, 1)\n",
      "'2_RfR 0'\n",
      "IntegerParameter('2_RfR 0', 0, 1)\n",
      "'2_RfR 1'\n",
      "IntegerParameter('2_RfR 1', 0, 1)\n",
      "'2_RfR 2'\n",
      "IntegerParameter('2_RfR 2', 0, 1)\n",
      "'3_RfR 0'\n",
      "IntegerParameter('3_RfR 0', 0, 1)\n",
      "'3_RfR 1'\n",
      "IntegerParameter('3_RfR 1', 0, 1)\n",
      "'3_RfR 2'\n",
      "IntegerParameter('3_RfR 2', 0, 1)\n",
      "'4_RfR 0'\n",
      "IntegerParameter('4_RfR 0', 0, 1)\n",
      "'4_RfR 1'\n",
      "IntegerParameter('4_RfR 1', 0, 1)\n",
      "'4_RfR 2'\n",
      "IntegerParameter('4_RfR 2', 0, 1)\n",
      "'EWS_DaysToThreat'\n",
      "IntegerParameter('EWS_DaysToThreat', 0, 4)\n",
      "'A.1_DikeIncrease 0'\n",
      "IntegerParameter('A.1_DikeIncrease 0', 0, 10)\n",
      "'A.1_DikeIncrease 1'\n",
      "IntegerParameter('A.1_DikeIncrease 1', 0, 10)\n",
      "'A.1_DikeIncrease 2'\n",
      "IntegerParameter('A.1_DikeIncrease 2', 0, 10)\n",
      "'A.2_DikeIncrease 0'\n",
      "IntegerParameter('A.2_DikeIncrease 0', 0, 10)\n",
      "'A.2_DikeIncrease 1'\n",
      "IntegerParameter('A.2_DikeIncrease 1', 0, 10)\n",
      "'A.2_DikeIncrease 2'\n",
      "IntegerParameter('A.2_DikeIncrease 2', 0, 10)\n",
      "'A.3_DikeIncrease 0'\n",
      "IntegerParameter('A.3_DikeIncrease 0', 0, 10)\n",
      "'A.3_DikeIncrease 1'\n",
      "IntegerParameter('A.3_DikeIncrease 1', 0, 10)\n",
      "'A.3_DikeIncrease 2'\n",
      "IntegerParameter('A.3_DikeIncrease 2', 0, 10)\n",
      "'A.4_DikeIncrease 0'\n",
      "IntegerParameter('A.4_DikeIncrease 0', 0, 10)\n",
      "'A.4_DikeIncrease 1'\n",
      "IntegerParameter('A.4_DikeIncrease 1', 0, 10)\n",
      "'A.4_DikeIncrease 2'\n",
      "IntegerParameter('A.4_DikeIncrease 2', 0, 10)\n",
      "'A.5_DikeIncrease 0'\n",
      "IntegerParameter('A.5_DikeIncrease 0', 0, 10)\n",
      "'A.5_DikeIncrease 1'\n",
      "IntegerParameter('A.5_DikeIncrease 1', 0, 10)\n",
      "'A.5_DikeIncrease 2'\n",
      "IntegerParameter('A.5_DikeIncrease 2', 0, 10)\n"
     ]
    }
   ],
   "source": [
    "for policy in dike_model.levers:\n",
    "    print(repr(policy.name))\n",
    "    print(repr(policy))"
   ]
  },
  {
   "cell_type": "markdown",
   "metadata": {},
   "source": [
    "# Transport company"
   ]
  },
  {
   "cell_type": "code",
   "execution_count": 5,
   "metadata": {},
   "outputs": [],
   "source": [
    "# setup the policies\n",
    "from ema_workbench import Policy\n",
    "policy_dict = {'0_RfR 0':1, \n",
    "               '0_RfR 1':1,\n",
    "               '0_RfR 2':1,\n",
    "               '1_RfR 0':0,\n",
    "               '1_RfR 1':0,\n",
    "               '1_RfR 2':0,\n",
    "               '2_RfR 0':0,\n",
    "               '2_RfR 1':0,\n",
    "               '2_RfR 2':0,\n",
    "               '3_RfR 0':0,\n",
    "               '3_RfR 1':0,\n",
    "               '3_RfR 2':0,\n",
    "               '4_RfR 0':0,\n",
    "               '4_RfR 1':0,\n",
    "               '4_RfR 2':0,\n",
    "               'EWS_DaysToThreat':0,\n",
    "               'A.1_DikeIncrease 0':0,\n",
    "               'A.1_DikeIncrease 1':0,\n",
    "               'A.1_DikeIncrease 2':0,\n",
    "               'A.2_DikeIncrease 0':0,\n",
    "               'A.2_DikeIncrease 1':0,\n",
    "               'A.2_DikeIncrease 2':0,\n",
    "               'A.3_DikeIncrease 0':0,\n",
    "               'A.3_DikeIncrease 1':0,\n",
    "               'A.3_DikeIncrease 2':0,\n",
    "               'A.4_DikeIncrease 0':0,\n",
    "               'A.4_DikeIncrease 1':0,\n",
    "               'A.4_DikeIncrease 2':0,\n",
    "               'A.5_DikeIncrease 0':0,\n",
    "               'A.5_DikeIncrease 1':0,\n",
    "               'A.5_DikeIncrease 2':0}\n",
    "\n",
    "pols = Policy('RFR policy', **policy_dict)"
   ]
  },
  {
   "cell_type": "code",
   "execution_count": 6,
   "metadata": {},
   "outputs": [
    {
     "name": "stdout",
     "output_type": "stream",
     "text": [
      "starting\n"
     ]
    },
    {
     "name": "stderr",
     "output_type": "stream",
     "text": [
      "[MainProcess/INFO] pool started\n",
      "[MainProcess/INFO] performing 100 scenarios * 1 policies * 1 model(s) = 100 experiments\n",
      "[MainProcess/INFO] 100 cases completed\n",
      "[MainProcess/INFO] experiments finished\n",
      "[MainProcess/INFO] terminating pool\n"
     ]
    }
   ],
   "source": [
    "print(\"starting\")\n",
    "with MultiprocessingEvaluator(dike_model) as evaluator:\n",
    "    results = evaluator.perform_experiments(scenarios=100,               #500\n",
    "                                            policies=pols, reporting_interval=100)\n",
    "\n",
    "\n",
    "# save_results(results, './transport.tar.gz')"
   ]
  },
  {
   "cell_type": "code",
   "execution_count": null,
   "metadata": {},
   "outputs": [],
   "source": []
  }
 ],
 "metadata": {
  "kernelspec": {
   "display_name": "python38",
   "language": "python",
   "name": "python38"
  },
  "language_info": {
   "codemirror_mode": {
    "name": "ipython",
    "version": 3
   },
   "file_extension": ".py",
   "mimetype": "text/x-python",
   "name": "python",
   "nbconvert_exporter": "python",
   "pygments_lexer": "ipython3",
   "version": "3.8.3"
  }
 },
 "nbformat": 4,
 "nbformat_minor": 4
}
