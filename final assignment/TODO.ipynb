{
 "cells": [
  {
   "cell_type": "markdown",
   "metadata": {},
   "source": [
    "# Verify points for other actors\n",
    "\n",
    "--> Transport Levers:\n",
    "      \n",
    "      \n",
    "      \n",
    "    \n",
    "--> OVerijsel\n",
    "    \n",
    "    \n",
    "    \n",
    "--> Gelderland\n",
    "    \n",
    "    \n",
    "    \n",
    "--> Environmentalist\n",
    "    \n",
    "    \n",
    "    \n",
    "--> DC?\n",
    "    \n",
    "    \n",
    "    "
   ]
  },
  {
   "cell_type": "code",
   "execution_count": 1,
   "metadata": {},
   "outputs": [
    {
     "output_type": "execute_result",
     "data": {
      "text/plain": "<Logger EMA (DEBUG)>"
     },
     "metadata": {},
     "execution_count": 1
    }
   ],
   "source": [
    "import numpy as np\n",
    "import scipy as sp\n",
    "import pandas as pd\n",
    "import matplotlib.pyplot as plt\n",
    "import seaborn as sns\n",
    "import networkx as nx\n",
    "from ema_workbench import save_results\n",
    "from ema_workbench import ema_logging, MultiprocessingEvaluator\n",
    "from ema_workbench import Model, RealParameter, ScalarOutcome, CategoricalParameter, IntegerParameter, BooleanParameter\n",
    "from ema_workbench.em_framework.samplers import sample_uncertainties\n",
    "# from ema_workbench.em_framework.evaluators import MC\n",
    "from dike_model_function import DikeNetwork\n",
    "from problem_formulation import get_model_for_problem_formulation\n",
    "ema_logging.log_to_stderr(ema_logging.INFO)\n",
    "\n",
    "dike_model, planning_steps = get_model_for_problem_formulation(5)\n",
    "\n",
    "ema_logging.log_to_stderr(ema_logging.INFO)"
   ]
  },
  {
   "cell_type": "markdown",
   "metadata": {},
   "source": [
    "# Transport company"
   ]
  },
  {
   "cell_type": "code",
   "execution_count": 22,
   "metadata": {},
   "outputs": [],
   "source": [
    "# setup the policies\n",
    "from ema_workbench import Policy\n",
    "policy_dict = {'0_RfR 0':1, \n",
    "               '0_RfR 1':1,\n",
    "               '0_RfR 2':1,\n",
    "               '1_RfR 0':0,\n",
    "               '1_RfR 1':0,\n",
    "               '1_RfR 2':0,\n",
    "               '2_RfR 0':0,\n",
    "               '2_RfR 1':0,\n",
    "               '2_RfR 2':0,\n",
    "               '3_RfR 0':0,\n",
    "               '3_RfR 1':0,\n",
    "               '3_RfR 2':0,\n",
    "               '4_RfR 0':0,\n",
    "               '4_RfR 1':0,\n",
    "               '4_RfR 2':0,\n",
    "               'EWS_DaysToThreat':0,\n",
    "               'A.1_DikeIncrease 0':0,\n",
    "               'A.1_DikeIncrease 1':0,\n",
    "               'A.1_DikeIncrease 2':0,\n",
    "               'A.2_DikeIncrease 0':0,\n",
    "               'A.2_DikeIncrease 1':0,\n",
    "               'A.2_DikeIncrease 2':0,\n",
    "               'A.3_DikeIncrease 0':0,\n",
    "               'A.3_DikeIncrease 1':0,\n",
    "               'A.3_DikeIncrease 2':0,\n",
    "               'A.4_DikeIncrease 0':0,\n",
    "               'A.4_DikeIncrease 1':0,\n",
    "               'A.4_DikeIncrease 2':0,\n",
    "               'A.5_DikeIncrease 0':0,\n",
    "               'A.5_DikeIncrease 1':0,\n",
    "               'A.5_DikeIncrease 2':0}\n",
    "\n",
    "pols = Policy('RFR policy', **policy_dict)"
   ]
  },
  {
   "cell_type": "code",
   "execution_count": 23,
   "metadata": {},
   "outputs": [
    {
     "name": "stdout",
     "output_type": "stream",
     "text": [
      "starting\n"
     ]
    },
    {
     "name": "stderr",
     "output_type": "stream",
     "text": [
      "[MainProcess/INFO] pool started\n",
      "[MainProcess/INFO] performing 100 scenarios * 1 policies * 1 model(s) = 100 experiments\n",
      "[MainProcess/INFO] 100 cases completed\n",
      "[MainProcess/INFO] experiments finished\n",
      "[MainProcess/INFO] terminating pool\n"
     ]
    }
   ],
   "source": [
    "print(\"starting\")\n",
    "with MultiprocessingEvaluator(dike_model) as evaluator:\n",
    "    results = evaluator.perform_experiments(scenarios=100,               #500\n",
    "                                            policies=pols, reporting_interval=100)\n",
    "\n",
    "\n",
    "# save_results(results, './transport.tar.gz')"
   ]
  },
  {
   "cell_type": "code",
   "execution_count": 24,
   "metadata": {},
   "outputs": [],
   "source": [
    "experiments, outcomes = results"
   ]
  },
  {
   "cell_type": "code",
   "execution_count": 25,
   "metadata": {},
   "outputs": [],
   "source": [
    "data = pd.DataFrame.from_dict(outcomes)"
   ]
  },
  {
   "cell_type": "code",
   "execution_count": 26,
   "metadata": {},
   "outputs": [
    {
     "data": {
      "text/html": [
       "<div>\n",
       "<style scoped>\n",
       "    .dataframe tbody tr th:only-of-type {\n",
       "        vertical-align: middle;\n",
       "    }\n",
       "\n",
       "    .dataframe tbody tr th {\n",
       "        vertical-align: top;\n",
       "    }\n",
       "\n",
       "    .dataframe thead th {\n",
       "        text-align: right;\n",
       "    }\n",
       "</style>\n",
       "<table border=\"1\" class=\"dataframe\">\n",
       "  <thead>\n",
       "    <tr style=\"text-align: right;\">\n",
       "      <th></th>\n",
       "      <th>Expected Annual Damage</th>\n",
       "      <th>Dike Investment Costs</th>\n",
       "      <th>RfR Investment Costs</th>\n",
       "      <th>Evacuation Costs</th>\n",
       "      <th>Expected Number of Deaths</th>\n",
       "    </tr>\n",
       "  </thead>\n",
       "  <tbody>\n",
       "    <tr>\n",
       "      <th>0</th>\n",
       "      <td>1.099181e+09</td>\n",
       "      <td>0</td>\n",
       "      <td>253800000.0</td>\n",
       "      <td>0.0</td>\n",
       "      <td>2.552367</td>\n",
       "    </tr>\n",
       "    <tr>\n",
       "      <th>1</th>\n",
       "      <td>1.806630e+09</td>\n",
       "      <td>0</td>\n",
       "      <td>253800000.0</td>\n",
       "      <td>0.0</td>\n",
       "      <td>2.469440</td>\n",
       "    </tr>\n",
       "    <tr>\n",
       "      <th>2</th>\n",
       "      <td>5.551847e+08</td>\n",
       "      <td>0</td>\n",
       "      <td>253800000.0</td>\n",
       "      <td>0.0</td>\n",
       "      <td>0.557139</td>\n",
       "    </tr>\n",
       "    <tr>\n",
       "      <th>3</th>\n",
       "      <td>1.345027e+09</td>\n",
       "      <td>0</td>\n",
       "      <td>253800000.0</td>\n",
       "      <td>0.0</td>\n",
       "      <td>2.559457</td>\n",
       "    </tr>\n",
       "    <tr>\n",
       "      <th>4</th>\n",
       "      <td>1.336987e+09</td>\n",
       "      <td>0</td>\n",
       "      <td>253800000.0</td>\n",
       "      <td>0.0</td>\n",
       "      <td>1.634590</td>\n",
       "    </tr>\n",
       "    <tr>\n",
       "      <th>...</th>\n",
       "      <td>...</td>\n",
       "      <td>...</td>\n",
       "      <td>...</td>\n",
       "      <td>...</td>\n",
       "      <td>...</td>\n",
       "    </tr>\n",
       "    <tr>\n",
       "      <th>95</th>\n",
       "      <td>1.606498e+08</td>\n",
       "      <td>0</td>\n",
       "      <td>253800000.0</td>\n",
       "      <td>0.0</td>\n",
       "      <td>0.185652</td>\n",
       "    </tr>\n",
       "    <tr>\n",
       "      <th>96</th>\n",
       "      <td>4.547610e+08</td>\n",
       "      <td>0</td>\n",
       "      <td>253800000.0</td>\n",
       "      <td>0.0</td>\n",
       "      <td>0.582112</td>\n",
       "    </tr>\n",
       "    <tr>\n",
       "      <th>97</th>\n",
       "      <td>2.464230e+08</td>\n",
       "      <td>0</td>\n",
       "      <td>253800000.0</td>\n",
       "      <td>0.0</td>\n",
       "      <td>0.186876</td>\n",
       "    </tr>\n",
       "    <tr>\n",
       "      <th>98</th>\n",
       "      <td>1.896566e+08</td>\n",
       "      <td>0</td>\n",
       "      <td>253800000.0</td>\n",
       "      <td>0.0</td>\n",
       "      <td>0.238531</td>\n",
       "    </tr>\n",
       "    <tr>\n",
       "      <th>99</th>\n",
       "      <td>1.548416e+09</td>\n",
       "      <td>0</td>\n",
       "      <td>253800000.0</td>\n",
       "      <td>0.0</td>\n",
       "      <td>1.576636</td>\n",
       "    </tr>\n",
       "  </tbody>\n",
       "</table>\n",
       "<p>100 rows × 5 columns</p>\n",
       "</div>"
      ],
      "text/plain": [
       "    Expected Annual Damage  Dike Investment Costs  RfR Investment Costs  \\\n",
       "0             1.099181e+09                      0           253800000.0   \n",
       "1             1.806630e+09                      0           253800000.0   \n",
       "2             5.551847e+08                      0           253800000.0   \n",
       "3             1.345027e+09                      0           253800000.0   \n",
       "4             1.336987e+09                      0           253800000.0   \n",
       "..                     ...                    ...                   ...   \n",
       "95            1.606498e+08                      0           253800000.0   \n",
       "96            4.547610e+08                      0           253800000.0   \n",
       "97            2.464230e+08                      0           253800000.0   \n",
       "98            1.896566e+08                      0           253800000.0   \n",
       "99            1.548416e+09                      0           253800000.0   \n",
       "\n",
       "    Evacuation Costs  Expected Number of Deaths  \n",
       "0                0.0                   2.552367  \n",
       "1                0.0                   2.469440  \n",
       "2                0.0                   0.557139  \n",
       "3                0.0                   2.559457  \n",
       "4                0.0                   1.634590  \n",
       "..               ...                        ...  \n",
       "95               0.0                   0.185652  \n",
       "96               0.0                   0.582112  \n",
       "97               0.0                   0.186876  \n",
       "98               0.0                   0.238531  \n",
       "99               0.0                   1.576636  \n",
       "\n",
       "[100 rows x 5 columns]"
      ]
     },
     "execution_count": 26,
     "metadata": {},
     "output_type": "execute_result"
    }
   ],
   "source": [
    "data"
   ]
  },
  {
   "cell_type": "code",
   "execution_count": 27,
   "metadata": {},
   "outputs": [
    {
     "data": {
      "image/png": "[encoded data removed]",
      "text/plain": [
       "<Figure size 900x900 with 30 Axes>"
      ]
     },
     "metadata": {},
     "output_type": "display_data"
    }
   ],
   "source": [
    "import seaborn as sns; sns.set(style=\"ticks\", color_codes=True)\n",
    "import pandas as pd;\n",
    "\n",
    "sns.pairplot(data,vars=list(outcomes.keys()), diag_kind='hist')\n",
    "plt.show()"
   ]
  },
  {
   "cell_type": "markdown",
   "metadata": {},
   "source": [
    "## Gelderland"
   ]
  },
  {
   "cell_type": "code",
   "execution_count": 3,
   "metadata": {},
   "outputs": [],
   "source": [
    "from ema_workbench import Policy\n",
    "\n",
    "policy_dict_gel = {'0_RfR 0':0, \n",
    "               '0_RfR 1':0,\n",
    "               '0_RfR 2':0,\n",
    "               '1_RfR 0':0,\n",
    "               '1_RfR 1':0,\n",
    "               '1_RfR 2':0,\n",
    "               '2_RfR 0':0,\n",
    "               '2_RfR 1':0,\n",
    "               '2_RfR 2':0,\n",
    "               '3_RfR 0':0,\n",
    "               '3_RfR 1':0,\n",
    "               '3_RfR 2':0,\n",
    "               '4_RfR 0':0,\n",
    "               '4_RfR 1':0,\n",
    "               '4_RfR 2':0,\n",
    "               'EWS_DaysToThreat':0,\n",
    "               'A.1_DikeIncrease 0':7,\n",
    "               'A.1_DikeIncrease 1':0,\n",
    "               'A.1_DikeIncrease 2':0,\n",
    "               'A.2_DikeIncrease 0':7,\n",
    "               'A.2_DikeIncrease 1':0,\n",
    "               'A.2_DikeIncrease 2':0,\n",
    "               'A.3_DikeIncrease 0':4,\n",
    "               'A.3_DikeIncrease 1':0,\n",
    "               'A.3_DikeIncrease 2':0,\n",
    "               'A.4_DikeIncrease 0':4,\n",
    "               'A.4_DikeIncrease 1':0,\n",
    "               'A.4_DikeIncrease 2':0,\n",
    "               'A.5_DikeIncrease 0':3,\n",
    "               'A.5_DikeIncrease 1':0,\n",
    "               'A.5_DikeIncrease 2':0}\n",
    "\n",
    "pols_gel = Policy('Preferred_policy_Gel', **policy_dict_gel)"
   ]
  },
  {
   "cell_type": "code",
   "execution_count": 4,
   "metadata": {},
   "outputs": [
    {
     "name": "stderr",
     "output_type": "stream",
     "text": [
      "[MainProcess/INFO] pool started\n",
      "[MainProcess/INFO] performing 1000 scenarios * 1 policies * 1 model(s) = 1000 experiments\n",
      "[MainProcess/INFO] 100 cases completed\n",
      "[MainProcess/INFO] 200 cases completed\n",
      "[MainProcess/INFO] 300 cases completed\n",
      "[MainProcess/INFO] 400 cases completed\n",
      "[MainProcess/INFO] 500 cases completed\n",
      "[MainProcess/INFO] 600 cases completed\n",
      "[MainProcess/INFO] 700 cases completed\n",
      "[MainProcess/INFO] 800 cases completed\n",
      "[MainProcess/INFO] 900 cases completed\n",
      "[MainProcess/INFO] 1000 cases completed\n",
      "[MainProcess/INFO] experiments finished\n",
      "[MainProcess/INFO] terminating pool\n"
     ]
    }
   ],
   "source": [
    "with MultiprocessingEvaluator(dike_model) as evaluator:\n",
    "    results = evaluator.perform_experiments(scenarios = 1000,               #500\n",
    "                                            policies=pols_gel, reporting_interval=100)"
   ]
  },
  {
   "cell_type": "code",
   "execution_count": 5,
   "metadata": {},
   "outputs": [
    {
     "name": "stderr",
     "output_type": "stream",
     "text": [
      "[MainProcess/INFO] results saved successfully to C:\\Users\\teres\\Documents\\EPA1361-Model-based Decison Making\\EPA1361\\final assignment\\Gelderland.tar.gz\n"
     ]
    }
   ],
   "source": [
    "save_results(results, './Gelderland.tar.gz')"
   ]
  },
  {
   "cell_type": "markdown",
   "metadata": {},
   "source": [
    "# as per request"
   ]
  },
  {
   "cell_type": "code",
   "execution_count": null,
   "metadata": {},
   "outputs": [],
   "source": [
    "# setup the policies\n",
    "from ema_workbench import Policy\n",
    "policy_dict_base_request = {'0_RfR 0':1, \n",
    "               '0_RfR 1':1,\n",
    "               '0_RfR 2':1,\n",
    "               '1_RfR 0':0,\n",
    "               '1_RfR 1':0,\n",
    "               '1_RfR 2':0,\n",
    "               '2_RfR 0':0,\n",
    "               '2_RfR 1':0,\n",
    "               '2_RfR 2':0,\n",
    "               '3_RfR 0':0,\n",
    "               '3_RfR 1':0,\n",
    "               '3_RfR 2':0,\n",
    "               '4_RfR 0':0,\n",
    "               '4_RfR 1':0,\n",
    "               '4_RfR 2':0,\n",
    "               'EWS_DaysToThreat':0,\n",
    "               'A.1_DikeIncrease 0':0,\n",
    "               'A.1_DikeIncrease 1':0,\n",
    "               'A.1_DikeIncrease 2':0,\n",
    "               'A.2_DikeIncrease 0':0,\n",
    "               'A.2_DikeIncrease 1':0,\n",
    "               'A.2_DikeIncrease 2':0,\n",
    "               'A.3_DikeIncrease 0':0,\n",
    "               'A.3_DikeIncrease 1':0,\n",
    "               'A.3_DikeIncrease 2':0,\n",
    "               'A.4_DikeIncrease 0':0,\n",
    "               'A.4_DikeIncrease 1':0,\n",
    "               'A.4_DikeIncrease 2':0,\n",
    "               'A.5_DikeIncrease 0':0,\n",
    "               'A.5_DikeIncrease 1':0,\n",
    "               'A.5_DikeIncrease 2':0}\n",
    "policy_dict_base_request_2 = {'0_RfR 0':0, \n",
    "               '0_RfR 1':0,\n",
    "               '0_RfR 2':0,\n",
    "               '1_RfR 0':0,\n",
    "               '1_RfR 1':0,\n",
    "               '1_RfR 2':0,\n",
    "               '2_RfR 0':0,\n",
    "               '2_RfR 1':0,\n",
    "               '2_RfR 2':0,\n",
    "               '3_RfR 0':1,\n",
    "               '3_RfR 1':1,\n",
    "               '3_RfR 2':1,\n",
    "               '4_RfR 0':0,\n",
    "               '4_RfR 1':0,\n",
    "               '4_RfR 2':0,\n",
    "               'EWS_DaysToThreat':0,\n",
    "               'A.1_DikeIncrease 0':0,\n",
    "               'A.1_DikeIncrease 1':0,\n",
    "               'A.1_DikeIncrease 2':0,\n",
    "               'A.2_DikeIncrease 0':0,\n",
    "               'A.2_DikeIncrease 1':0,\n",
    "               'A.2_DikeIncrease 2':0,\n",
    "               'A.3_DikeIncrease 0':0,\n",
    "               'A.3_DikeIncrease 1':0,\n",
    "               'A.3_DikeIncrease 2':0,\n",
    "               'A.4_DikeIncrease 0':0,\n",
    "               'A.4_DikeIncrease 1':0,\n",
    "               'A.4_DikeIncrease 2':0,\n",
    "               'A.5_DikeIncrease 0':0,\n",
    "               'A.5_DikeIncrease 1':0,\n",
    "               'A.5_DikeIncrease 2':0}\n",
    "pols_request = [Policy('RFR policy 1', **policy_dict_request), Policy('RFR policy 4', **policy_dict_request_2) ]"
   ]
  },
  {
   "cell_type": "code",
   "execution_count": null,
   "metadata": {},
   "outputs": [],
   "source": [
    "with MultiprocessingEvaluator(dike_model) as evaluator:\n",
    "    results = evaluator.perform_experiments(scenarios = 1000,               #500\n",
    "                                            policies=pols_request, reporting_interval=100)"
   ]
  }
 ],
 "metadata": {
  "kernelspec": {
   "display_name": "Python 3",
   "language": "python",
   "name": "python3"
  },
  "language_info": {
   "codemirror_mode": {
    "name": "ipython",
    "version": 3
   },
   "file_extension": ".py",
   "mimetype": "text/x-python",
   "name": "python",
   "nbconvert_exporter": "python",
   "pygments_lexer": "ipython3",
   "version": "3.8.2-final"
  }
 },
 "nbformat": 4,
 "nbformat_minor": 4
}