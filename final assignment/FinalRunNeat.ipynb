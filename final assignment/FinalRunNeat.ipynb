{
 "cells": [
  {
   "cell_type": "markdown",
   "metadata": {},
   "source": [
    "First of all we will do a model exploration in a base case (no policies implemented); <br/>\n",
    "Next we will do a model exploration with random policies; <br/>\n",
    "after a sensitivity and vulnerability analysis will be done; <br/>\n",
    "at last a Optimization will be run to find optimal solutions. <br/>\n",
    "\n",
    "# Model exploration"
   ]
  },
  {
   "cell_type": "code",
   "execution_count": 1,
   "metadata": {},
   "outputs": [
    {
     "output_type": "execute_result",
     "data": {
      "text/plain": "<Logger EMA (DEBUG)>"
     },
     "metadata": {},
     "execution_count": 1
    }
   ],
   "source": [
    "# initialize for this run\n",
    "import numpy as np\n",
    "import scipy as sp\n",
    "import pandas as pd\n",
    "import matplotlib.pyplot as plt\n",
    "import seaborn as sns\n",
    "import networkx as nx\n",
    "from ema_workbench import ema_logging, MultiprocessingEvaluator\n",
    "from ema_workbench import Model, RealParameter, ScalarOutcome, CategoricalParameter, IntegerParameter, BooleanParameter, Policy\n",
    "from ema_workbench.em_framework.samplers import sample_uncertainties\n",
    "from dike_model_function import DikeNetwork\n",
    "from ProblemFormulationSelf import problem_definition\n",
    "ema_logging.log_to_stderr(ema_logging.INFO)"
   ]
  },
  {
   "cell_type": "code",
   "execution_count": 10,
   "metadata": {},
   "outputs": [
    {
     "output_type": "stream",
     "name": "stderr",
     "text": "[MainProcess/INFO] pool started\n[MainProcess/INFO] performing 20 scenarios * 1 policies * 1 model(s) = 20 experiments\n[MainProcess/INFO] 2 cases completed\n[MainProcess/INFO] 4 cases completed\n[MainProcess/INFO] 6 cases completed\n[MainProcess/INFO] 8 cases completed\n[MainProcess/INFO] 10 cases completed\n[MainProcess/INFO] 12 cases completed\n[MainProcess/INFO] 14 cases completed\n[MainProcess/INFO] 16 cases completed\n[MainProcess/INFO] 18 cases completed\n[MainProcess/INFO] 20 cases completed\n[MainProcess/INFO] experiments finished\n[MainProcess/INFO] terminating pool\n"
    }
   ],
   "source": [
    "dike_model, planning_steps = problem_definition('all vars')\n",
    "\n",
    "policies_0 = [Policy('no policy', **{l.name: 0 for l in dike_model.levers})]\n",
    " \n",
    "with MultiprocessingEvaluator(dike_model) as evaluator:\n",
    "    all_results_0 = evaluator.perform_experiments(scenarios = 10000, policies = policies_0)\n",
    "\n",
    "save_results(all_results_0, './data/exp/nopol10000scen.tar.gz')"
   ]
  },
  {
   "cell_type": "code",
   "execution_count": 3,
   "metadata": {},
   "outputs": [
    {
     "output_type": "execute_result",
     "data": {
      "text/plain": "      All Costs  Expected Number of Deaths\n0  3.418861e+09                   2.001234\n1  2.011474e+09                   1.470994\n2  3.488404e+08                   0.457595\n3  2.854403e+08                   0.271905\n4  2.225366e+08                   0.223304",
      "text/html": "<div>\n<style scoped>\n    .dataframe tbody tr th:only-of-type {\n        vertical-align: middle;\n    }\n\n    .dataframe tbody tr th {\n        vertical-align: top;\n    }\n\n    .dataframe thead th {\n        text-align: right;\n    }\n</style>\n<table border=\"1\" class=\"dataframe\">\n  <thead>\n    <tr style=\"text-align: right;\">\n      <th></th>\n      <th>All Costs</th>\n      <th>Expected Number of Deaths</th>\n    </tr>\n  </thead>\n  <tbody>\n    <tr>\n      <th>0</th>\n      <td>3.418861e+09</td>\n      <td>2.001234</td>\n    </tr>\n    <tr>\n      <th>1</th>\n      <td>2.011474e+09</td>\n      <td>1.470994</td>\n    </tr>\n    <tr>\n      <th>2</th>\n      <td>3.488404e+08</td>\n      <td>0.457595</td>\n    </tr>\n    <tr>\n      <th>3</th>\n      <td>2.854403e+08</td>\n      <td>0.271905</td>\n    </tr>\n    <tr>\n      <th>4</th>\n      <td>2.225366e+08</td>\n      <td>0.223304</td>\n    </tr>\n  </tbody>\n</table>\n</div>"
     },
     "metadata": {},
     "execution_count": 3
    }
   ],
   "source": [
    "experiments_0, outcomes_0 = all_results_0"
   ]
  },
  {
   "cell_type": "code",
   "execution_count": 5,
   "metadata": {},
   "outputs": [
    {
     "output_type": "execute_result",
     "data": {
      "text/plain": "   Expected Annual Damage  Total Investment Costs  Expected Number of Deaths\n0            5.457124e+08                     0.0                   0.627889\n1            1.595975e+09                     0.0                   2.445999\n2            1.925069e+08                     0.0                   0.112023\n3            1.368792e+09                     0.0                   1.256310\n4            1.286650e+09                     0.0                   2.329860",
      "text/html": "<div>\n<style scoped>\n    .dataframe tbody tr th:only-of-type {\n        vertical-align: middle;\n    }\n\n    .dataframe tbody tr th {\n        vertical-align: top;\n    }\n\n    .dataframe thead th {\n        text-align: right;\n    }\n</style>\n<table border=\"1\" class=\"dataframe\">\n  <thead>\n    <tr style=\"text-align: right;\">\n      <th></th>\n      <th>Expected Annual Damage</th>\n      <th>Total Investment Costs</th>\n      <th>Expected Number of Deaths</th>\n    </tr>\n  </thead>\n  <tbody>\n    <tr>\n      <th>0</th>\n      <td>5.457124e+08</td>\n      <td>0.0</td>\n      <td>0.627889</td>\n    </tr>\n    <tr>\n      <th>1</th>\n      <td>1.595975e+09</td>\n      <td>0.0</td>\n      <td>2.445999</td>\n    </tr>\n    <tr>\n      <th>2</th>\n      <td>1.925069e+08</td>\n      <td>0.0</td>\n      <td>0.112023</td>\n    </tr>\n    <tr>\n      <th>3</th>\n      <td>1.368792e+09</td>\n      <td>0.0</td>\n      <td>1.256310</td>\n    </tr>\n    <tr>\n      <th>4</th>\n      <td>1.286650e+09</td>\n      <td>0.0</td>\n      <td>2.329860</td>\n    </tr>\n  </tbody>\n</table>\n</div>"
     },
     "metadata": {},
     "execution_count": 5
    }
   ],
   "source": [
    "# do something with the data. "
   ]
  },
  {
   "cell_type": "markdown",
   "metadata": {},
   "source": [
    "run with 10 ramdom policies"
   ]
  },
  {
   "cell_type": "code",
   "execution_count": 9,
   "metadata": {},
   "outputs": [
    {
     "output_type": "execute_result",
     "data": {
      "text/plain": "   A.1 Total Costs  ...  Expected Evacuation Costs\n0     5.094582e+07  ...                        0.0\n1     2.195438e+08  ...                        0.0\n2     6.579547e+06  ...                        0.0\n3     2.205500e+09  ...                        0.0\n4     8.789173e+07  ...                        0.0\n\n[5 rows x 12 columns]",
      "text/html": "<div>\n<style scoped>\n    .dataframe tbody tr th:only-of-type {\n        vertical-align: middle;\n    }\n\n    .dataframe tbody tr th {\n        vertical-align: top;\n    }\n\n    .dataframe thead th {\n        text-align: right;\n    }\n</style>\n<table border=\"1\" class=\"dataframe\">\n  <thead>\n    <tr style=\"text-align: right;\">\n      <th></th>\n      <th>A.1 Total Costs</th>\n      <th>A.1_Expected Number of Deaths</th>\n      <th>A.2 Total Costs</th>\n      <th>A.2_Expected Number of Deaths</th>\n      <th>A.3 Total Costs</th>\n      <th>A.3_Expected Number of Deaths</th>\n      <th>A.4 Total Costs</th>\n      <th>A.4_Expected Number of Deaths</th>\n      <th>A.5 Total Costs</th>\n      <th>A.5_Expected Number of Deaths</th>\n      <th>RfR Total Costs</th>\n      <th>Expected Evacuation Costs</th>\n    </tr>\n  </thead>\n  <tbody>\n    <tr>\n      <th>0</th>\n      <td>5.094582e+07</td>\n      <td>0.038356</td>\n      <td>2.727952e+07</td>\n      <td>0.027808</td>\n      <td>1.742046e+07</td>\n      <td>0.033337</td>\n      <td>1.054218e+07</td>\n      <td>0.005985</td>\n      <td>2.406315e+08</td>\n      <td>0.227915</td>\n      <td>0.0</td>\n      <td>0.0</td>\n    </tr>\n    <tr>\n      <th>1</th>\n      <td>2.195438e+08</td>\n      <td>0.125752</td>\n      <td>8.626318e+07</td>\n      <td>0.065485</td>\n      <td>5.439873e+07</td>\n      <td>0.079584</td>\n      <td>0.000000e+00</td>\n      <td>0.000000</td>\n      <td>0.000000e+00</td>\n      <td>0.000000</td>\n      <td>0.0</td>\n      <td>0.0</td>\n    </tr>\n    <tr>\n      <th>2</th>\n      <td>6.579547e+06</td>\n      <td>0.006079</td>\n      <td>4.313936e+08</td>\n      <td>0.480962</td>\n      <td>5.851649e+08</td>\n      <td>1.263215</td>\n      <td>0.000000e+00</td>\n      <td>0.000000</td>\n      <td>0.000000e+00</td>\n      <td>0.000000</td>\n      <td>0.0</td>\n      <td>0.0</td>\n    </tr>\n    <tr>\n      <th>3</th>\n      <td>2.205500e+09</td>\n      <td>1.726188</td>\n      <td>0.000000e+00</td>\n      <td>0.000000</td>\n      <td>7.482219e+07</td>\n      <td>0.147622</td>\n      <td>0.000000e+00</td>\n      <td>0.000000</td>\n      <td>0.000000e+00</td>\n      <td>0.000000</td>\n      <td>0.0</td>\n      <td>0.0</td>\n    </tr>\n    <tr>\n      <th>4</th>\n      <td>8.789173e+07</td>\n      <td>0.093068</td>\n      <td>8.718292e+07</td>\n      <td>0.120338</td>\n      <td>3.829385e+07</td>\n      <td>0.101135</td>\n      <td>0.000000e+00</td>\n      <td>0.000000</td>\n      <td>5.967699e+08</td>\n      <td>0.769028</td>\n      <td>0.0</td>\n      <td>0.0</td>\n    </tr>\n  </tbody>\n</table>\n</div>"
     },
     "metadata": {},
     "execution_count": 9
    }
   ],
   "source": [
    "with MultiprocessingEvaluator(dike_model) as evaluator:\n",
    "    all_results_r10 = evaluator.perform_experiments(scenarios=10000,               #500\n",
    "                                            policies=10,\n",
    "                                            uncertainty_sampling='mc', reporting_interval=10000)\n",
    "\n",
    "from ema_workbench import save_results\n",
    "\n",
    "save_results(all_results_r10, './data/exp/mc10pol10000scen.tar.gz')"
   ]
  },
  {
   "cell_type": "code",
   "execution_count": 11,
   "metadata": {},
   "outputs": [
    {
     "output_type": "execute_result",
     "data": {
      "text/plain": "   Expected Annual Damage 0  ...  Expected Evacuation Costs 2\n0              4.518274e+07  ...                          0.0\n1              7.054395e+08  ...                          0.0\n2              1.285308e+08  ...                          0.0\n3              3.494992e+07  ...                          0.0\n4              7.625402e+08  ...                          0.0\n\n[5 rows x 15 columns]",
      "text/html": "<div>\n<style scoped>\n    .dataframe tbody tr th:only-of-type {\n        vertical-align: middle;\n    }\n\n    .dataframe tbody tr th {\n        vertical-align: top;\n    }\n\n    .dataframe thead th {\n        text-align: right;\n    }\n</style>\n<table border=\"1\" class=\"dataframe\">\n  <thead>\n    <tr style=\"text-align: right;\">\n      <th></th>\n      <th>Expected Annual Damage 0</th>\n      <th>Dike Investment Costs 0</th>\n      <th>Expected Number of Deaths 0</th>\n      <th>RfR Total Costs 0</th>\n      <th>Expected Evacuation Costs 0</th>\n      <th>Expected Annual Damage 1</th>\n      <th>Dike Investment Costs 1</th>\n      <th>Expected Number of Deaths 1</th>\n      <th>RfR Total Costs 1</th>\n      <th>Expected Evacuation Costs 1</th>\n      <th>Expected Annual Damage 2</th>\n      <th>Dike Investment Costs 2</th>\n      <th>Expected Number of Deaths 2</th>\n      <th>RfR Total Costs 2</th>\n      <th>Expected Evacuation Costs 2</th>\n    </tr>\n  </thead>\n  <tbody>\n    <tr>\n      <th>0</th>\n      <td>4.518274e+07</td>\n      <td>0</td>\n      <td>0.044510</td>\n      <td>0.0</td>\n      <td>0.0</td>\n      <td>4.518274e+07</td>\n      <td>0</td>\n      <td>0.044510</td>\n      <td>0.0</td>\n      <td>0.0</td>\n      <td>4.518274e+07</td>\n      <td>0</td>\n      <td>0.044510</td>\n      <td>0.0</td>\n      <td>0.0</td>\n    </tr>\n    <tr>\n      <th>1</th>\n      <td>7.054395e+08</td>\n      <td>0</td>\n      <td>0.565559</td>\n      <td>0.0</td>\n      <td>0.0</td>\n      <td>7.054395e+08</td>\n      <td>0</td>\n      <td>0.565559</td>\n      <td>0.0</td>\n      <td>0.0</td>\n      <td>5.783616e+08</td>\n      <td>0</td>\n      <td>0.565559</td>\n      <td>0.0</td>\n      <td>0.0</td>\n    </tr>\n    <tr>\n      <th>2</th>\n      <td>1.285308e+08</td>\n      <td>0</td>\n      <td>0.185633</td>\n      <td>0.0</td>\n      <td>0.0</td>\n      <td>1.285308e+08</td>\n      <td>0</td>\n      <td>0.185633</td>\n      <td>0.0</td>\n      <td>0.0</td>\n      <td>2.552300e+08</td>\n      <td>0</td>\n      <td>0.185633</td>\n      <td>0.0</td>\n      <td>0.0</td>\n    </tr>\n    <tr>\n      <th>3</th>\n      <td>3.494992e+07</td>\n      <td>0</td>\n      <td>0.045634</td>\n      <td>0.0</td>\n      <td>0.0</td>\n      <td>4.262914e+07</td>\n      <td>0</td>\n      <td>0.045634</td>\n      <td>0.0</td>\n      <td>0.0</td>\n      <td>3.494992e+07</td>\n      <td>0</td>\n      <td>0.045634</td>\n      <td>0.0</td>\n      <td>0.0</td>\n    </tr>\n    <tr>\n      <th>4</th>\n      <td>7.625402e+08</td>\n      <td>0</td>\n      <td>1.103834</td>\n      <td>0.0</td>\n      <td>0.0</td>\n      <td>6.074871e+08</td>\n      <td>0</td>\n      <td>1.103834</td>\n      <td>0.0</td>\n      <td>0.0</td>\n      <td>9.890112e+08</td>\n      <td>0</td>\n      <td>1.103834</td>\n      <td>0.0</td>\n      <td>0.0</td>\n    </tr>\n  </tbody>\n</table>\n</div>"
     },
     "metadata": {},
     "execution_count": 11
    }
   ],
   "source": [
    "experiments_r10, outcomes_r10 = all_results_r10"
   ]
  },
  {
   "cell_type": "code",
   "execution_count": 1,
   "metadata": {},
   "outputs": [],
   "source": [
    "# do something with the data"
   ]
  },
  {
   "cell_type": "markdown",
   "metadata": {},
   "source": [
    "# Vulnerability & sensitivity Analysis"
   ]
  },
  {
   "cell_type": "code",
   "execution_count": null,
   "metadata": {},
   "outputs": [],
   "source": []
  }
 ],
 "metadata": {
  "language_info": {
   "codemirror_mode": {
    "name": "ipython",
    "version": 3
   },
   "file_extension": ".py",
   "mimetype": "text/x-python",
   "name": "python",
   "nbconvert_exporter": "python",
   "pygments_lexer": "ipython3",
   "version": "3.8.2-final"
  },
  "orig_nbformat": 2,
  "kernelspec": {
   "name": "python38132bit6a9a63050c0345eeaaa2a86c8d451af3",
   "display_name": "Python 3.8.1 32-bit"
  }
 },
 "nbformat": 4,
 "nbformat_minor": 2
}