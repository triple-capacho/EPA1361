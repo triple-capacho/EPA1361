{
 "cells": [
  {
   "cell_type": "markdown",
   "metadata": {},
   "source": [
    "# Problem statement\n",
    "    The dikes in the netherlands across the IJssel river have the possibility to overflow and thus damage the surrounding areas because of \n",
    "    the floods. The damages can be calculated, for 5 different cities. In each of these cities the cost of dike maintenance can also be \n",
    "    calculated. Our task is to find the best possible solution regarding our research question as what to do with the dikes. An upstream \n",
    "    flood means less water will reach the cities downstream as the water is now in that city. \n",
    "\n",
    "# Goal / Research question\n",
    "    reduce the cost and reduce the deaths of all living things, trees, animals and humans (who are also animals if you are precise).\n",
    "\n",
    "    low end terms, easy to run models. \n",
    "\n",
    "    Perspective of any actor or scenario. ==> actor Overijssel.  "
   ]
  }
 ],
 "metadata": {
  "language_info": {
   "codemirror_mode": {
    "name": "ipython",
    "version": 3
   },
   "file_extension": ".py",
   "mimetype": "text/x-python",
   "name": "python",
   "nbconvert_exporter": "python",
   "pygments_lexer": "ipython3",
   "version": 3
  },
  "orig_nbformat": 2
 },
 "nbformat": 4,
 "nbformat_minor": 2
}