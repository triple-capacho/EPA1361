{
 "cells": [
  {
   "cell_type": "markdown",
   "metadata": {},
   "source": [
    "# Replication assignment\n",
    "\n",
    "Replicate the results found in [Bryant et al  (2010)](https://doi.org/10.1016/j.techfore.2009.08.002), [Rozenberg et al (2014)](https://link.springer.com/content/pdf/10.1007/s10584-013-0904-3.pdf), and [Hamarat et al (2013)](https://doi.org/10.1016/j.techfore.2012.10.004). The data files are named accordingly. You can also look at [Kwakkel & Jaxa-Rozen (2016)](https://www.sciencedirect.com/science/article/pii/S1364815215301092), which gives a succint summary of these three cases. \n",
    "\n",
    "An additional useful, if dated, resource for Bryant et al is https://waterprogramming.wordpress.com/2015/08/05/scenario-discovery-in-python/ \n",
    "\n"
   ]
  },
  {
   "cell_type": "markdown",
   "metadata": {},
   "source": [
    "# Bryant & Lempert\n",
    "\n",
    "Load the data using pandas. The experiments are in colums 2-10, while the outcome is in column 15. If you look at the paper carefully, you will see that they change the peel_alpha in PRIM. This controls the leniency of the algorithm.\n"
   ]
  },
  {
   "cell_type": "code",
   "execution_count": 6,
   "metadata": {},
   "outputs": [
    {
     "output_type": "stream",
     "name": "stdout",
     "text": "renew req %  Pricing  Cellulosic cost  Total biomass  \\\n877         0.25        1        99.199997     511.600006   \n878         0.25        1       102.400002     751.400024   \n879         0.25        1       100.000000     527.000000   \n880         0.25        1       108.300003     694.200012   \n881         0.25        1       121.099999     588.599976   \n\n     Feedstock distribution  Cellulosic yield  Oil elasticity  \\\n877                    0.45         89.099998           0.363   \n878                    0.91         86.800003           0.318   \n879                    0.59         91.099998           0.410   \n880                    0.65         99.800003           0.355   \n881                    0.35         94.599998           0.283   \n\n     Demand elasticity  Electricity coproduction  oil supply shift  \\\n877             -0.387                      1.75            -0.015   \n878             -0.471                      0.75             0.023   \n879             -0.567                      0.22             0.062   \n880             -0.368                      1.62             0.017   \n881             -0.332                      1.18            -0.007   \n\n     Biomass backstop price  input record  Expen change  Incremental cost  \\\n877              170.500000          1995         74.22            265.56   \n878               96.199997          1996         35.97            163.70   \n879              137.100006          1997         35.96            200.64   \n880              145.399994          1998         41.42            126.74   \n881              124.300003          1999         62.17            207.96   \n\n     Less than 10%  Greater than 90%  \n877              0                 0  \n878              0                 0  \n879              0                 0  \n880              0                 0  \n881              0                 0  \n"
    }
   ],
   "source": [
    "import pandas\n",
    "\n",
    "bryant_df = pandas.read_csv('data/bryant et al 2010.csv') # read data and make a dataframe\n",
    "# print(bryant_df.tail()) # print tail of the data frame\n"
   ]
  },
  {
   "cell_type": "markdown",
   "metadata": {},
   "source": [
    "# Rozenberg et al\n",
    "\n",
    "\n",
    "* The experiments are the first seven columns. The remainder specify whether a given experiment belongs to a given SSP.\n",
    "* Apply prim separately for each SSP\n",
    "* you have to play with the threshold for each SSP, the default of 0.8 is at times too high\n",
    "* if you look at the paper carefully, you will discover that they change some of the default parameters of PRIM\n"
   ]
  },
  {
   "cell_type": "code",
   "execution_count": 12,
   "metadata": {},
   "outputs": [],
   "source": [
    "import pandas\n",
    "\n",
    "rozenberg_df = pandas.read_csv('data/Rozenberg et al 2014.csv') # read data and make a dataframe\n",
    "# print(rozenberg_df.tail()) # print tail of the data frame"
   ]
  },
  {
   "cell_type": "markdown",
   "metadata": {},
   "source": [
    "# Hamarat et al\n",
    "\n",
    "this is the most difficult dataset to analyze with prim. It has been generated using the ema_workbench and can be loaded with the `load_results` function. Experiments are of interest if the end state for `'fraction renewables'` is lower than the initial value.\n",
    "\n",
    "* PRIM struggles with finding a good explanation for this case, why?\n",
    "* [Dalal et al (2013)](https://www.sciencedirect.com/science/article/pii/S1364815213001345) suggest using PCA preprocessing. The ema_workbench supports this with the `pca_preprocess` function. See also examples/prim_PCA_preprocess.py. Does PCA preprocessing makes a difference for this case?\n"
   ]
  },
  {
   "cell_type": "code",
   "execution_count": 9,
   "metadata": {},
   "outputs": [
    {
     "output_type": "stream",
     "name": "stdout",
     "text": "(     SWITCH Market price determination SWITCH TGC obligation curve  \\\n0                                    1                           2   \n1                                    2                           3   \n2                                    1                           3   \n3                                    2                           2   \n4                                    1                           2   \n...                                ...                         ...   \n4995                                 1                           1   \n4996                                 1                           2   \n4997                                 1                           1   \n4998                                 1                           3   \n4999                                 1                           1   \n\n     SWITCH carbon cap SWITCH carbon price determination  \\\n0                    3                                 2   \n1                    2                                 1   \n2                    1                                 1   \n3                    3                                 2   \n4                    3                                 3   \n...                ...                               ...   \n4995                 1                                 1   \n4996                 3                                 1   \n4997                 3                                 1   \n4998                 3                                 1   \n4999                 1                                 3   \n\n     SWITCH economic growth SWITCH electrification rate  \\\n0                         5                           1   \n1                         4                           2   \n2                         3                           6   \n3                         1                           5   \n4                         4                           5   \n...                     ...                         ...   \n4995                      3                           2   \n4996                      3                           5   \n4997                      3                           4   \n4998                      6                           3   \n4999                      1                           1   \n\n     SWITCH interconnection capacity expansion SWITCH lookup curve TGC  \\\n0                                            1                       2   \n1                                            1                       1   \n2                                            4                       2   \n3                                            1                       2   \n4                                            1                       2   \n...                                        ...                     ...   \n4995                                         4                       1   \n4996                                         1                       1   \n4997                                         1                       3   \n4998                                         1                       1   \n4999                                         4                       1   \n\n     SWITCH low reserve margin price markup SWITCH physical limits  ...  \\\n0                                         1                      2  ...   \n1                                         3                      2  ...   \n2                                         4                      1  ...   \n3                                         2                      1  ...   \n4                                         2                      1  ...   \n...                                     ...                    ...  ...   \n4995                                      3                      1  ...   \n4996                                      2                      1  ...   \n4997                                      2                      1  ...   \n4998                                      3                      1  ...   \n4999                                      1                      2  ...   \n\n     starting construction time time of nuclear power plant ban  \\\n0                      0.813530                     2045.490971   \n1                      1.712138                     2088.839530   \n2                      0.390609                     2013.876882   \n3                      2.069449                     2042.566070   \n4                      1.094902                     2051.277387   \n...                         ...                             ...   \n4995                   2.443080                     2048.361066   \n4996                   1.810992                     2046.513779   \n4997                   0.524648                     2083.535742   \n4998                   1.121825                     2049.697171   \n4999                   1.260161                     2046.466677   \n\n      uncertainty initial gross fuel costs  weight factor carbon abatement  \\\n0                                 0.906060                        8.761673   \n1                                 0.741120                        4.573769   \n2                                 1.396959                        9.374337   \n3                                 1.034850                        3.912941   \n4                                 0.590479                        3.663262   \n...                                    ...                             ...   \n4995                              1.382122                        8.360590   \n4996                              0.706620                        1.436440   \n4997                              1.244429                        2.397216   \n4998                              0.585930                        2.168406   \n4999                              1.261557                        2.627173   \n\n      weight factor marginal investment costs  \\\n0                                    8.859864   \n1                                    4.300891   \n2                                    1.586548   \n3                                    8.038037   \n4                                    8.602380   \n...                                       ...   \n4995                                 6.078714   \n4996                                 4.835751   \n4997                                 9.297792   \n4998                                 9.630272   \n4999                                 8.118324   \n\n      weight factor technological familiarity  \\\n0                                    4.240532   \n1                                    4.159390   \n2                                    2.431839   \n3                                    1.170614   \n4                                    7.392188   \n...                                       ...   \n4995                                 4.943982   \n4996                                 1.998337   \n4997                                 1.033138   \n4998                                 1.098442   \n4999                                 7.527181   \n\n      weight factor technological growth potential      year   model  \\\n0                                         5.476591  0.939007  energy   \n1                                         9.782508  0.964794  energy   \n2                                         1.282010  1.070390  energy   \n3                                         4.865733  0.979062  energy   \n4                                         2.125345  1.073439  energy   \n...                                            ...       ...     ...   \n4995                                      1.285286  1.013162  energy   \n4996                                      4.328045  0.997881  energy   \n4997                                      7.460572  0.903423  energy   \n4998                                      9.564640  1.074167  energy   \n4999                                      2.216482  1.072593  energy   \n\n         policy  \n0     no policy  \n1     no policy  \n2     no policy  \n3     no policy  \n4     no policy  \n...         ...  \n4995  no policy  \n4996  no policy  \n4997  no policy  \n4998  no policy  \n4999  no policy  \n\n[5000 rows x 48 columns], {'fraction renewables': array([[0.31618923, 0.31619009, 0.31619254, ..., 0.26765659, 0.26730603,\n        0.26695362],\n       [0.31508598, 0.31508735, 0.31509113, ..., 0.44931963, 0.44940147,\n        0.44947988],\n       [0.31839272, 0.31839353, 0.31839618, ..., 0.59941703, 0.59934622,\n        0.59928203],\n       ...,\n       [0.31783172, 0.3178325 , 0.31783482, ..., 0.49547905, 0.49593133,\n        0.49639055],\n       [0.31375358, 0.31375462, 0.31375748, ..., 0.38203168, 0.3821263 ,\n        0.38222334],\n       [0.31789917, 0.3179003 , 0.31790349, ..., 0.31051478, 0.3102605 ,\n        0.31000748]]), 'carbon emissions reduction fraction': array([[ 0.00000000e+00,  1.04782416e-07,  8.13436031e-07, ...,\n        -2.41059136e+00, -2.42725468e+00, -2.44397616e+00],\n       [ 0.00000000e+00,  1.24736871e-07,  9.49939306e-07, ...,\n         3.99437845e-01,  3.99044961e-01,  3.98631543e-01],\n       [ 0.00000000e+00,  8.85316993e-08,  7.05202467e-07, ...,\n         8.25306237e-01,  8.25743377e-01,  8.26179504e-01],\n       ...,\n       [ 0.00000000e+00,  1.03963195e-07,  8.13681254e-07, ...,\n         5.59924781e-01,  5.60786009e-01,  5.61652660e-01],\n       [ 0.00000000e+00,  9.34599456e-08,  7.23931180e-07, ...,\n         8.63903522e-01,  8.64297211e-01,  8.64689767e-01],\n       [ 0.00000000e+00,  9.20198460e-08,  7.16790112e-07, ...,\n        -2.08818412e+00, -2.10942364e+00, -2.13068438e+00]]), 'TIME': array([[2010.    , 2010.0625, 2010.125 , ..., 2049.875 , 2049.9375,\n        2050.    ],\n       [2010.    , 2010.0625, 2010.125 , ..., 2049.875 , 2049.9375,\n        2050.    ],\n       [2010.    , 2010.0625, 2010.125 , ..., 2049.875 , 2049.9375,\n        2050.    ],\n       ...,\n       [2010.    , 2010.0625, 2010.125 , ..., 2049.875 , 2049.9375,\n        2050.    ],\n       [2010.    , 2010.0625, 2010.125 , ..., 2049.875 , 2049.9375,\n        2050.    ],\n       [2010.    , 2010.0625, 2010.125 , ..., 2049.875 , 2049.9375,\n        2050.    ]])})\n"
    }
   ],
   "source": [
    "import ema_workbench\n",
    "\n",
    "hamarat_tuple = ema_workbench.load_results('data/Hamarat et al 2013.gz')\n",
    "print(hamarat_tuple) # print the tuple"
   ]
  }
 ],
 "metadata": {
  "anaconda-cloud": {},
  "kernelspec": {
   "display_name": "Python 3",
   "language": "python",
   "name": "python3"
  },
  "language_info": {
   "codemirror_mode": {
    "name": "ipython",
    "version": 3
   },
   "file_extension": ".py",
   "mimetype": "text/x-python",
   "name": "python",
   "nbconvert_exporter": "python",
   "pygments_lexer": "ipython3",
   "version": "3.8.2-final"
  },
  "latex_envs": {
   "LaTeX_envs_menu_present": true,
   "autocomplete": true,
   "bibliofile": "biblio.bib",
   "cite_by": "apalike",
   "current_citInitial": 1,
   "eqLabelWithNumbers": true,
   "eqNumInitial": 1,
   "hotkeys": {
    "equation": "Ctrl-E",
    "itemize": "Ctrl-I"
   },
   "labels_anchors": false,
   "latex_user_defs": false,
   "report_style_numbering": false,
   "user_envs_cfg": false
  }
 },
 "nbformat": 4,
 "nbformat_minor": 4
}