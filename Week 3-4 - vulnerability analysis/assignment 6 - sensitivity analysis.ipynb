{
 "cells": [
  {
   "cell_type": "markdown",
   "metadata": {},
   "source": [
    "# EPA1361 - Model-Based Decision Making\n",
    "# Week 3 - Sensitivity analysis\n",
    "\n",
    "This exercise uses the same predator-prey model we used for the multi-model exercise, focusing on the Python version. As with the other exercise, define a model object for the function below, with the uncertainty ranges provided:\n",
    "\n",
    "|Parameter\t|Range or value\t        |\n",
    "|-----------|--------------:|\n",
    "|prey_birth_rate    \t|0.015 – 0.035\t|\n",
    "|predation_rate|0.0005 – 0.003 \t|\n",
    "|predator_efficiency     \t|0.001 – 0.004\t    |\n",
    "|predator_loss_rate\t    |0.04 – 0.08\t    |\n",
    "\n",
    "* Sensitivity analysis often focuses on the final values of an outcome at the end of the simulation. However, we can also look at metrics that give us additional information about the behavior of the model over time. Using [the statsmodel library](https://www.statsmodels.org/stable/index.html) and an appropriate sampling design, fit a linear regression model for each of the following indicators. What can we conclude about the behavior of the model, and about the importance of the different inputs?\n",
    "\n",
    "  * The final values of the _prey_ outcome\n",
    "  * The mean values of the _prey_ outcome over time, within each experiment\n",
    "  * The standard deviations of the _prey_ outcome over time, within each experiment\n",
    "  \n",
    "\n",
    "* Use the Sobol sampling functionality included in the Workbench to perform experiments with a sample size of N=50, then analyze the results with SALib for the same three indicators. This requires specifying the keyword argument `'uncertainty_sampling'` of perform_experiments. Note that when using Sobol sampling, the meaning of the keyword argument `scenarios` changes a bit. In order to properly estimate Sobol scores as well as interaction effects, you require N * (2D+2) scenarios, where D is the number of uncertain parameters, and N is the value for scenarios passed to `perform_experiments`. Repeat the analysis for larger sample sizes, with N=250 and N=1000. How can we interpret the first-order and total indices? Are these sample sizes sufficient for a stable estimation of the indices? You'll need to use the [get_SALib_problem](https://emaworkbench.readthedocs.io/en/latest/ema_documentation/em_framework/salib_samplers.html) function to convert your Workbench experiments to a problem definition that you can pass to the SALib analysis function. \n",
    "\n",
    "* *hint*: sobol is a deterministic sequence of quasi random numbers. Thus, you can run with N=1000 and simply slice for 1:50 and 1:250.\n",
    "\n",
    "* Use the [Extra-Trees analysis](https://emaworkbench.readthedocs.io/en/latest/ema_documentation/analysis/feature_scoring.html) included in the Workbench to approximate the Sobol total indices, with a suitable sampling design. As a starting point, use an ensemble of 100 trees and a max_features parameter of 0.6, and set the analysis to regression mode. Are the estimated importances stable relative to the sample size and the analysis parameters? How do the results compare to the Sobol indices? For more details on this analysis see [Jaxa-Rozen & Kwakkel (2018)](https://www.sciencedirect.com/science/article/pii/S1364815217311581)"
   ]
  },
  {
   "cell_type": "code",
   "execution_count": 1,
   "metadata": {
    "collapsed": false,
    "jupyter": {
     "outputs_hidden": false
    }
   },
   "outputs": [],
   "source": [
    "import numpy as np\n",
    "import matplotlib.pyplot as plt\n",
    "\n",
    "from ema_workbench import (Model, RealParameter, TimeSeriesOutcome, perform_experiments, ema_logging)\n",
    "\n",
    "from ema_workbench.em_framework.evaluators import LHS, SOBOL, MORRIS\n",
    "\n",
    "from ema_workbench.analysis import feature_scoring\n",
    "from ema_workbench.analysis.scenario_discovery_util import RuleInductionType\n",
    "from ema_workbench.em_framework.salib_samplers import get_SALib_problem\n",
    "from SALib.analyze import sobol\n",
    "\n",
    "def pred_prey(prey_birth_rate=0.025, predation_rate=0.0015, predator_efficiency=0.002,\n",
    "             predator_loss_rate=0.06, initial_prey=50, initial_predators=20, dt=0.25, \n",
    "             final_time=365, reps=1):\n",
    "\n",
    "    #Initial values\n",
    "    predators = np.zeros((reps, int(final_time/dt)+1))\n",
    "    prey = np.zeros((reps, int(final_time/dt)+1))\n",
    "    sim_time = np.zeros((reps, int(final_time/dt)+1))\n",
    "    \n",
    "    for r in range(reps):\n",
    "\n",
    "        predators[r,0] = initial_predators\n",
    "        prey[r,0] = initial_prey\n",
    "\n",
    "    #Calculate the time series\n",
    "    for t in range(0, sim_time.shape[1]-1):\n",
    "\n",
    "        dx = (prey_birth_rate*prey[r,t]) - (predation_rate*prey[r,t]*predators[r,t])\n",
    "        dy = (predator_efficiency*predators[r,t]*prey[r,t]) - (predator_loss_rate*predators[r,t])\n",
    "\n",
    "        prey[r,t+1] = max(prey[r,t] + dx*dt, 0)\n",
    "        predators[r,t+1] = max(predators[r,t] + dy*dt, 0)\n",
    "        sim_time[r,t+1] = (t+1)*dt\n",
    "    \n",
    "    #Return outcomes\n",
    "    return {'TIME':sim_time,\n",
    "            'predators':predators,\n",
    "            'prey':prey}"
   ]
  },
  {
   "cell_type": "code",
   "execution_count": 2,
   "metadata": {},
   "outputs": [],
   "source": [
    "##  python model....\n",
    "\n",
    "import numpy as np\n",
    "import matplotlib.pyplot as plt\n",
    "\n",
    "from scipy.integrate import odeint\n",
    "from ema_workbench import Model, RealParameter, TimeSeriesOutcome, ScalarOutcome\n",
    "\n",
    "py_model = Model('pypredprey', function=pred_prey)\n",
    "\n",
    "py_model.uncertainties = [RealParameter('prey_birth_rate', 0.015, 0.035),\n",
    "                       RealParameter('predation_rate', 0.0005, 0.003),\n",
    "                       RealParameter('predator_efficiency', 0.001, 0.004),\n",
    "                       RealParameter(\"predator_loss_rate\", 0.04, 0.08)]\n",
    "\n",
    "# model.levers = [RealParameter('initial_prey', 25, 75),\n",
    "# #                 RealParameter('initial_predators', 10,30)]\n",
    "\n",
    "# py_model.constants = [Constant('final_time', 365),\n",
    "#                     Constant('dt', 0.25)]\n",
    "\n",
    "py_model.outcomes =  [TimeSeriesOutcome('predators'), TimeSeriesOutcome('prey')]"
   ]
  },
  {
   "cell_type": "code",
   "execution_count": 3,
   "metadata": {},
   "outputs": [
    {
     "output_type": "stream",
     "name": "stderr",
     "text": "[MainProcess/INFO] performing 1000 scenarios * 1 policies * 1 model(s) = 1000 experiments\n[MainProcess/INFO] performing experiments sequentially\n[MainProcess/INFO] 100 cases completed\n[MainProcess/INFO] 200 cases completed\n[MainProcess/INFO] 300 cases completed\n[MainProcess/INFO] 400 cases completed\n[MainProcess/INFO] 500 cases completed\n[MainProcess/INFO] 600 cases completed\n[MainProcess/INFO] 700 cases completed\n[MainProcess/INFO] 800 cases completed\n[MainProcess/INFO] 900 cases completed\n[MainProcess/INFO] 1000 cases completed\n[MainProcess/INFO] experiments finished\n     predation_rate  predator_efficiency  predator_loss_rate  prey_birth_rate  \\\n0          0.002150             0.003601            0.069572         0.032235   \n1          0.002659             0.002387            0.079043         0.023883   \n2          0.001448             0.001554            0.071376         0.021560   \n3          0.001921             0.002448            0.076187         0.030844   \n4          0.002713             0.001075            0.067005         0.025020   \n..              ...                  ...                 ...              ...   \n995        0.001816             0.001338            0.048431         0.033602   \n996        0.001144             0.002007            0.065047         0.028742   \n997        0.001491             0.003568            0.055565         0.031008   \n998        0.002188             0.001340            0.060262         0.032458   \n999        0.000961             0.001764            0.056630         0.020464   \n\n    scenario policy       model  \n0          0   None  pypredprey  \n1          1   None  pypredprey  \n2          2   None  pypredprey  \n3          3   None  pypredprey  \n4          4   None  pypredprey  \n..       ...    ...         ...  \n995      995   None  pypredprey  \n996      996   None  pypredprey  \n997      997   None  pypredprey  \n998      998   None  pypredprey  \n999      999   None  pypredprey  \n\n[1000 rows x 7 columns]\n{'predators': array([[20.        , 20.55229213, 21.11734683, ..., 16.81823149,\n        16.5845314 , 16.35402185],\n       [20.        , 20.20142498, 20.40046538, ...,  7.03916254,\n         6.96126501,  6.88430771],\n       [20.        , 20.03162343, 20.06257734, ..., 16.4332896 ,\n        16.37912027, 16.32499653],\n       ...,\n       [20.        , 20.61419145, 21.24751943, ...,  1.92308682,\n         1.95308624,  1.98395886],\n       [20.        , 20.03374089, 20.06658972, ..., 10.02228942,\n        10.01224692, 10.00258498],\n       [20.        , 20.15776985, 20.31692249, ..., 11.28876958,\n        11.35507519, 11.42231702]]), 'prey': array([[50.        , 49.86547332, 49.71650653, ...,  3.88518509,\n         3.88137594,  3.87805804],\n       [50.        , 49.63385143, 49.26373893, ..., 14.57231292,\n        14.59113962, 14.61074613],\n       [50.        , 49.90754649, 49.81469268, ..., 37.44550082,\n        37.42460308, 37.40445078],\n       ...,\n       [50.        , 50.01495402, 50.01846547, ..., 33.06086762,\n        33.29345975, 33.52731604],\n       [50.        , 49.85862029, 49.71671995, ..., 41.9741601 ,\n        42.08460618, 42.1955741 ],\n       [50.        , 50.01555263, 50.02921436, ..., 45.43024228,\n        45.53945011, 45.64819504]])}\n"
    }
   ],
   "source": [
    "# run the experiments python\n",
    "from ema_workbench import (MultiprocessingEvaluator, SequentialEvaluator ,ema_logging,\n",
    "                           perform_experiments)\n",
    "ema_logging.log_to_stderr(ema_logging.INFO)\n",
    "\n",
    "with SequentialEvaluator(py_model) as evaluator:\n",
    "    results = evaluator.perform_experiments(scenarios=1000)\n",
    "experiments, outcomes = results\n",
    "outcomes = {key:outcomes[key][:,0,:] for key in outcomes.keys()} # Important for printing, delete redundant array\n",
    "print(experiments)\n",
    "print(outcomes)"
   ]
  },
  {
   "cell_type": "markdown",
   "metadata": {},
   "source": [
    "# For printing"
   ]
  },
  {
   "cell_type": "code",
   "execution_count": null,
   "metadata": {},
   "outputs": [],
   "source": [
    "import matplotlib.pyplot as plt # TO DO; plot the scalers.\n",
    "import pandas as pd\n",
    "import seaborn as sns; sns.set(style=\"ticks\", color_codes=True)\n",
    "experiments, outcomes = results\n",
    "# print(experiments.shape)\n",
    "# print(list(outcomes.keys()))\n",
    "# print(outcomes)\n",
    "# outcomes = {key:outcomes[key][:,0,:] for key in outcomes.keys()} # Important for printing, delete redundant array.\n",
    "# print(outcomes)\n",
    "\n",
    "for outcome in outcomes.keys():\n",
    "    print(outcome)\n",
    "    plotting.lines(experiments, outcomes, outcomes_to_show=outcome, density=plotting_util.Density.HIST)\n",
    "plt.show()"
   ]
  },
  {
   "cell_type": "markdown",
   "metadata": {},
   "source": [
    "# statsmodels regression"
   ]
  },
  {
   "cell_type": "code",
   "execution_count": null,
   "metadata": {},
   "outputs": [],
   "source": [
    "import statsmodels.api as sm\n",
    "import statsmodels.formula.api as smf\n",
    "from statsmodels.sandbox.regression.predstd import wls_prediction_std\n",
    "\n",
    "dat"
   ]
  }
 ],
 "metadata": {
  "kernelspec": {
   "display_name": "Python 3.8.2 64-bit",
   "language": "python",
   "name": "python38264bitc695bbccf217448cbeb1e12ff6afe318"
  },
  "language_info": {
   "codemirror_mode": {
    "name": "ipython",
    "version": 3
   },
   "file_extension": ".py",
   "mimetype": "text/x-python",
   "name": "python",
   "nbconvert_exporter": "python",
   "pygments_lexer": "ipython3",
   "version": "3.8.2-final"
  }
 },
 "nbformat": 4,
 "nbformat_minor": 4
}