{
 "cells": [
  {
   "cell_type": "markdown",
   "metadata": {},
   "source": [
    "# EPA1361 - Model-Based Decision Making\n",
    "\n",
    "## Multi-model analysis\n",
    "\n",
    "This exercise uses a simple version of the [Lotka-Volterra predator-prey equations](https://en.wikipedia.org/wiki/Lotka%E2%80%93Volterra_equations) to show how the EMA Workbench can be used for a\n",
    "multi-model analysis, in addition to typical parametric/structural uncertainties. This will let you test the connectors provided in the Workbench for Excel, NetLogo, and Vensim / PySD; we'll also use the models for the sensitivity analysis exercise in week 3.\n",
    "\n",
    "* Using the three model files provided and the Python function below, define model objects for each implementation (Excel, NetLogo, Vensim/PySD, and Python), and test them using a single ensemble. Use 50 experiments sampled from the parameters below (so that each experiment will be executed for the 4 models, for a total of 200), and retrieve outputs for the _TIME_, _predators_, and _prey_ variables.\n",
    "    * excel and vensim are only supported on windows\n",
    "    * vensim requires 32 bit python, and a 7.1!! version of vensim DSS\n",
    "    * Netlogo supoprt depends on [jpype](http://jpype.readthedocs.io/en/latest/install.html) and [pynetlogo](https://pynetlogo.readthedocs.io/en/latest/). Also, if you don't have NetLogo installed, please get it from [NetLogo 6.0](https://ccl.northwestern.edu/netlogo/download.shtml) \n",
    "    * for pysd, see [its documentation](http://pysd.readthedocs.io/en/master/installation.html)\n",
    "    * If possible try to work with all model versions, but even 2 or 3 (pure python and something else should be sufficient).\n",
    "    \n",
    "\n",
    "|Parameter\t|Range or value\t        |\n",
    "|-----------|--------------:|\n",
    "|prey_birth_rate    \t|0.015 – 0.035\t|\n",
    "|predation_rate|0.0005 – 0.003 \t|\n",
    "|predator_efficiency     \t|0.001 – 0.004\t    |\n",
    "|predator_loss_rate\t    |0.04 – 0.08\t    |\n",
    "|Final time\t    |365\t    |\n",
    "|dt\t    |0.25\t    |\n",
    "\n",
    "* Note that your EMA Workbench installation includes example scripts for the different connectors. The different model objects follow a similar syntax but will need to be slightly adjusted depending on the software (e.g. to specify the NetLogo run length or the sheet name in Excel). \n",
    "\n",
    "* These model objects can be used with a replication functionality (for instance to test the effect of stochastic uncertainty in a NetLogo model), which repeats a given experiment over multiple replications. You can use a single replication in this exercise as the models are not stochastic. By default, each outcome array will then have a shape of (# experiments, # replications, # time steps). Try adapting the outcome arrays so that they can be used with the _lines_ plotting function of the Workbench, and plot the results grouped by model.\n",
    "\n",
    "* To check the graphical results, find the maximum absolute error of the time series you obtained for the _prey_ variable in the Excel, NetLogo, and Vensim/PySD models, relative to the Python function. "
   ]
  },
  {
   "cell_type": "code",
   "execution_count": 18,
   "metadata": {
    "jupyter": {
     "outputs_hidden": false
    }
   },
   "outputs": [
    {
     "output_type": "stream",
     "name": "stdout",
     "text": "{'TIME': array([[0.0000e+00, 2.5000e-01, 5.0000e-01, ..., 3.6450e+02, 3.6475e+02,\n        3.6500e+02]]), 'predators': array([[20.        , 20.2       , 20.40136875, ..., 37.69187459,\n        37.72581658, 37.75505957]]), 'prey': array([[50.        , 49.9375    , 49.87133281, ..., 31.8010242 ,\n        31.55029052, 31.30113215]])}\n"
    }
   ],
   "source": [
    "import numpy as np\n",
    "import matplotlib.pyplot as plt\n",
    "\n",
    "from ema_workbench import (Model, RealParameter, TimeSeriesOutcome, perform_experiments,\n",
    "                           ema_logging, Constant)\n",
    "\n",
    "from ema_workbench.connectors.netlogo import NetLogoModel\n",
    "from ema_workbench.connectors.excel import ExcelModel\n",
    "from ema_workbench.connectors.pysd_connector import PysdModel\n",
    "\n",
    "from ema_workbench.em_framework.evaluators import LHS, SOBOL, MORRIS\n",
    "\n",
    "from ema_workbench.analysis.plotting import lines, Density\n",
    "\n",
    "\n",
    "def PredPrey(prey_birth_rate=0.025, predation_rate=0.0015, predator_efficiency=0.002,\n",
    "             predator_loss_rate=0.06, initial_prey=50, initial_predators=20, dt=0.25, final_time=365, reps=1):\n",
    "\n",
    "    #Initial values\n",
    "    predators, prey, sim_time = [np.zeros((reps, int(final_time/dt)+1)) for _ in range(3)]\n",
    "    \n",
    "    for r in range(reps):\n",
    "        predators[r,0] = initial_predators\n",
    "        prey[r,0] = initial_prey\n",
    "\n",
    "        #Calculate the time series\n",
    "        for t in range(0, sim_time.shape[1]-1):\n",
    "\n",
    "            dx = (prey_birth_rate*prey[r,t]) - (predation_rate*prey[r,t]*predators[r,t])\n",
    "            dy = (predator_efficiency*predators[r,t]*prey[r,t]) - (predator_loss_rate*predators[r,t])\n",
    "\n",
    "            prey[r,t+1] = max(prey[r,t] + dx*dt, 0)\n",
    "            predators[r,t+1] = max(predators[r,t] + dy*dt, 0)\n",
    "            sim_time[r,t+1] = (t+1)*dt\n",
    "    \n",
    "    #Return outcomes\n",
    "    return {'TIME':sim_time,\n",
    "            'predators':predators,\n",
    "            'prey':prey}\n",
    "# print(PredPrey())"
   ]
  },
  {
   "cell_type": "code",
   "execution_count": 21,
   "metadata": {},
   "outputs": [
    {
     "output_type": "stream",
     "name": "stderr",
     "text": "[MainProcess/INFO] performing 50 scenarios * 1 policies * 1 model(s) = 50 experiments\n[MainProcess/INFO] performing experiments sequentially\n[MainProcess/INFO] 5 cases completed\n[MainProcess/INFO] 10 cases completed\n[MainProcess/INFO] 15 cases completed\n[MainProcess/INFO] 20 cases completed\n[MainProcess/INFO] 25 cases completed\n[MainProcess/INFO] 30 cases completed\n[MainProcess/INFO] 35 cases completed\n[MainProcess/INFO] 40 cases completed\n[MainProcess/INFO] 45 cases completed\n[MainProcess/INFO] 50 cases completed\n[MainProcess/INFO] experiments finished\n    predation_rate  predator_efficiency  ...  policy       model\n0         0.001217             0.001883  ...    None  pypredprey\n1         0.002886             0.003933  ...    None  pypredprey\n2         0.002552             0.001736  ...    None  pypredprey\n3         0.001854             0.001215  ...    None  pypredprey\n4         0.001357             0.002682  ...    None  pypredprey\n5         0.001301             0.001819  ...    None  pypredprey\n6         0.001824             0.001356  ...    None  pypredprey\n7         0.001627             0.001176  ...    None  pypredprey\n8         0.001526             0.001452  ...    None  pypredprey\n9         0.002687             0.002098  ...    None  pypredprey\n10        0.000792             0.003434  ...    None  pypredprey\n11        0.001110             0.003306  ...    None  pypredprey\n12        0.001171             0.003750  ...    None  pypredprey\n13        0.002202             0.002234  ...    None  pypredprey\n14        0.001707             0.003693  ...    None  pypredprey\n15        0.002110             0.002004  ...    None  pypredprey\n16        0.001257             0.002158  ...    None  pypredprey\n17        0.001592             0.001662  ...    None  pypredprey\n18        0.002609             0.002467  ...    None  pypredprey\n19        0.001006             0.003114  ...    None  pypredprey\n20        0.000973             0.003353  ...    None  pypredprey\n21        0.000571             0.002068  ...    None  pypredprey\n22        0.000890             0.003822  ...    None  pypredprey\n23        0.002809             0.003465  ...    None  pypredprey\n24        0.002185             0.002749  ...    None  pypredprey\n25        0.000531             0.003025  ...    None  pypredprey\n26        0.000694             0.002960  ...    None  pypredprey\n27        0.001058             0.003970  ...    None  pypredprey\n28        0.002442             0.003163  ...    None  pypredprey\n29        0.002334             0.001517  ...    None  pypredprey\n30        0.002100             0.002529  ...    None  pypredprey\n31        0.002718             0.001910  ...    None  pypredprey\n32        0.001762             0.003598  ...    None  pypredprey\n33        0.001978             0.001300  ...    None  pypredprey\n34        0.000822             0.002274  ...    None  pypredprey\n35        0.002970             0.002826  ...    None  pypredprey\n36        0.002296             0.001007  ...    None  pypredprey\n37        0.001435             0.003227  ...    None  pypredprey\n38        0.000607             0.003788  ...    None  pypredprey\n39        0.001461             0.002585  ...    None  pypredprey\n40        0.002536             0.001088  ...    None  pypredprey\n41        0.001945             0.002334  ...    None  pypredprey\n42        0.000936             0.001606  ...    None  pypredprey\n43        0.002377             0.002666  ...    None  pypredprey\n44        0.002019             0.001583  ...    None  pypredprey\n45        0.000704             0.001379  ...    None  pypredprey\n46        0.002778             0.003569  ...    None  pypredprey\n47        0.002473             0.002884  ...    None  pypredprey\n48        0.002922             0.002383  ...    None  pypredprey\n49        0.001661             0.003057  ...    None  pypredprey\n\n[50 rows x 7 columns]\n{'TIME': array([[[0.0000e+00, 2.5000e-01, 5.0000e-01, ..., 3.6450e+02,\n         3.6475e+02, 3.6500e+02]],\n\n       [[0.0000e+00, 2.5000e-01, 5.0000e-01, ..., 3.6450e+02,\n         3.6475e+02, 3.6500e+02]],\n\n       [[0.0000e+00, 2.5000e-01, 5.0000e-01, ..., 3.6450e+02,\n         3.6475e+02, 3.6500e+02]],\n\n       ...,\n\n       [[0.0000e+00, 2.5000e-01, 5.0000e-01, ..., 3.6450e+02,\n         3.6475e+02, 3.6500e+02]],\n\n       [[0.0000e+00, 2.5000e-01, 5.0000e-01, ..., 3.6450e+02,\n         3.6475e+02, 3.6500e+02]],\n\n       [[0.0000e+00, 2.5000e-01, 5.0000e-01, ..., 3.6450e+02,\n         3.6475e+02, 3.6500e+02]]]), 'predators': array([[[20.        , 20.22613991, 20.4539577 , ...,  4.18232806,\n          4.15952036,  4.13692056]],\n\n       [[20.        , 20.61417983, 21.23773411, ...,  0.07797786,\n          0.07755992,  0.07714931]],\n\n       [[20.        , 20.16595502, 20.33122371, ..., 15.40499656,\n         15.29356694, 15.18277507]],\n\n       ...,\n\n       [[20.        , 20.51061718, 21.03129061, ...,  0.91853402,\n          0.91655436,  0.91463852]],\n\n       [[20.        , 20.20205013, 20.40100974, ...,  6.40472436,\n          6.33033526,  6.25688187]],\n\n       [[20.        , 20.55721703, 21.12644676, ...,  4.17036732,\n          4.2937971 ,  4.42124059]]]), 'prey': array([[[50.        , 49.90765115, 49.81203905, ..., 14.38761159,\n         14.43027913, 14.47317334]],\n\n       [[50.        , 49.5320224 , 49.04647426, ..., 13.32067273,\n         13.3874777 , 13.45462175]],\n\n       [[50.        , 49.76425352, 49.524349  , ..., 14.21637803,\n         14.19103018, 14.16673651]],\n\n       ...,\n\n       [[50.        , 49.79847713, 49.58204373, ..., 11.60156822,\n         11.69169046, 11.78252709]],\n\n       [[50.        , 49.57363252, 49.14358445, ..., 13.54808482,\n         13.56709568, 13.58687041]],\n\n       [[50.        , 49.77649675, 49.54247736, ..., 52.27125593,\n         52.38112414, 52.48853906]]])}\ndict_keys(['TIME', 'predators', 'prey'])\n[('TIME', array([[[0.0000e+00, 2.5000e-01, 5.0000e-01, ..., 3.6450e+02,\n         3.6475e+02, 3.6500e+02]],\n\n       [[0.0000e+00, 2.5000e-01, 5.0000e-01, ..., 3.6450e+02,\n         3.6475e+02, 3.6500e+02]],\n\n       [[0.0000e+00, 2.5000e-01, 5.0000e-01, ..., 3.6450e+02,\n         3.6475e+02, 3.6500e+02]],\n\n       ...,\n\n       [[0.0000e+00, 2.5000e-01, 5.0000e-01, ..., 3.6450e+02,\n         3.6475e+02, 3.6500e+02]],\n\n       [[0.0000e+00, 2.5000e-01, 5.0000e-01, ..., 3.6450e+02,\n         3.6475e+02, 3.6500e+02]],\n\n       [[0.0000e+00, 2.5000e-01, 5.0000e-01, ..., 3.6450e+02,\n         3.6475e+02, 3.6500e+02]]])), ('predators', array([[[20.        , 20.22613991, 20.4539577 , ...,  4.18232806,\n          4.15952036,  4.13692056]],\n\n       [[20.        , 20.61417983, 21.23773411, ...,  0.07797786,\n          0.07755992,  0.07714931]],\n\n       [[20.        , 20.16595502, 20.33122371, ..., 15.40499656,\n         15.29356694, 15.18277507]],\n\n       ...,\n\n       [[20.        , 20.51061718, 21.03129061, ...,  0.91853402,\n          0.91655436,  0.91463852]],\n\n       [[20.        , 20.20205013, 20.40100974, ...,  6.40472436,\n          6.33033526,  6.25688187]],\n\n       [[20.        , 20.55721703, 21.12644676, ...,  4.17036732,\n          4.2937971 ,  4.42124059]]])), ('prey', array([[[50.        , 49.90765115, 49.81203905, ..., 14.38761159,\n         14.43027913, 14.47317334]],\n\n       [[50.        , 49.5320224 , 49.04647426, ..., 13.32067273,\n         13.3874777 , 13.45462175]],\n\n       [[50.        , 49.76425352, 49.524349  , ..., 14.21637803,\n         14.19103018, 14.16673651]],\n\n       ...,\n\n       [[50.        , 49.79847713, 49.58204373, ..., 11.60156822,\n         11.69169046, 11.78252709]],\n\n       [[50.        , 49.57363252, 49.14358445, ..., 13.54808482,\n         13.56709568, 13.58687041]],\n\n       [[50.        , 49.77649675, 49.54247736, ..., 52.27125593,\n         52.38112414, 52.48853906]]]))]\n"
    },
    {
     "output_type": "error",
     "ename": "AttributeError",
     "evalue": "'list' object has no attribute 'keys'",
     "traceback": [
      "\u001b[1;31m---------------------------------------------------------------------------\u001b[0m",
      "\u001b[1;31mAttributeError\u001b[0m                            Traceback (most recent call last)",
      "\u001b[1;32m<ipython-input-21-d67cf89e23c0>\u001b[0m in \u001b[0;36m<module>\u001b[1;34m\u001b[0m\n\u001b[0;32m     60\u001b[0m \u001b[1;32mfrom\u001b[0m \u001b[0mema_workbench\u001b[0m\u001b[1;33m.\u001b[0m\u001b[0manalysis\u001b[0m \u001b[1;32mimport\u001b[0m \u001b[0mplotting\u001b[0m\u001b[1;33m,\u001b[0m \u001b[0mplotting_util\u001b[0m\u001b[1;33m\u001b[0m\u001b[1;33m\u001b[0m\u001b[0m\n\u001b[0;32m     61\u001b[0m \u001b[1;33m\u001b[0m\u001b[0m\n\u001b[1;32m---> 62\u001b[1;33m \u001b[1;32mfor\u001b[0m \u001b[0moutcome\u001b[0m \u001b[1;32min\u001b[0m \u001b[0mnew_outcomes\u001b[0m\u001b[1;33m.\u001b[0m\u001b[0mkeys\u001b[0m\u001b[1;33m(\u001b[0m\u001b[1;33m)\u001b[0m\u001b[1;33m:\u001b[0m\u001b[1;33m\u001b[0m\u001b[1;33m\u001b[0m\u001b[0m\n\u001b[0m\u001b[0;32m     63\u001b[0m     plotting.lines(experiments, new_outcomes, outcomes_to_show=outcome, \n\u001b[0;32m     64\u001b[0m                    density=plotting_util.Density.HIST)\n",
      "\u001b[1;31mAttributeError\u001b[0m: 'list' object has no attribute 'keys'"
     ]
    }
   ],
   "source": [
    "import numpy as np\n",
    "import matplotlib.pyplot as plt\n",
    "\n",
    "from scipy.integrate import odeint\n",
    "from ema_workbench import Model, RealParameter, TimeSeriesOutcome, ScalarOutcome\n",
    "\n",
    "model = Model('pypredprey', function=PredPrey)\n",
    "\n",
    "model.uncertainties = [RealParameter('prey_birth_rate', 0.015, 0.035),\n",
    "                       RealParameter('predation_rate', 0.0005, 0.003),\n",
    "                       RealParameter('predator_efficiency', 0.001, 0.004),\n",
    "                       RealParameter(\"predator_loss_rate\", 0.04, 0.08)]\n",
    "\n",
    "# model.levers = [RealParameter('initial_prey', 25, 75),\n",
    "#                 RealParameter('initial_predators', 10,30)]\n",
    "\n",
    "model.constants = [Constant('final_time', 365),\n",
    "                    Constant('dt', 0.25)]\n",
    "\n",
    "model.outcomes = [TimeSeriesOutcome('TIME'),\n",
    "                    TimeSeriesOutcome('predators'),\n",
    "                    TimeSeriesOutcome('prey')]\n",
    "\n",
    "# run the experiments\n",
    "from ema_workbench import (MultiprocessingEvaluator, SequentialEvaluator ,ema_logging,\n",
    "                           perform_experiments)\n",
    "ema_logging.log_to_stderr(ema_logging.INFO)\n",
    "\n",
    "with SequentialEvaluator(model) as evaluator:\n",
    "    results = evaluator.perform_experiments(scenarios=50)\n",
    "experiments, outcomes = results\n",
    "\n",
    "import matplotlib.pyplot as plt # TO DO; plot the scalers.\n",
    "import pandas as pd\n",
    "import seaborn as sns; sns.set(style=\"ticks\", color_codes=True)\n",
    "#print(experiments.shape)\n",
    "#print(list(outcomes.keys()))\n",
    "\n",
    "# policies = experiments['policy']\n",
    "#print(policies)\n",
    "#print(\"set policy\")\n",
    "# for i, policy in enumerate(np.unique(policies)):\n",
    "#     experiments.loc[policies==policy, 'policy'] = str(i)\n",
    "#print(\"changed policy\")\n",
    "print(experiments)\n",
    "print(outcomes)\n",
    "print(outcomes.keys())\n",
    "\n",
    "# data = pd.DataFrame(outcomes)\n",
    "# #print(\"created df\")\n",
    "# data['policy'] = policies\n",
    "#print(\"added policy to df\")\n",
    "# print(data)\n",
    "\n",
    "# sns.pairplot(data, vars=list(outcomes.keys()), diag_kind='auto')\n",
    "# #print(\"created plot\")\n",
    "# plt.show()\n",
    "#print(\"done\")\n",
    "from ema_workbench.analysis import plotting, plotting_util\n",
    "\n",
    "for outcome in outcomes.keys():\n",
    "    plotting.lines(experiments, outcomes, outcomes_to_show=outcome, \n",
    "                   density=plotting_util.Density.HIST)\n",
    "plt.show()\n"
   ]
  },
  {
   "cell_type": "code",
   "execution_count": null,
   "metadata": {},
   "outputs": [],
   "source": []
  }
 ],
 "metadata": {
  "kernelspec": {
   "display_name": "Python 3.8.1 32-bit",
   "language": "python",
   "name": "python38132bit6a9a63050c0345eeaaa2a86c8d451af3"
  },
  "language_info": {
   "codemirror_mode": {
    "name": "ipython",
    "version": 3
   },
   "file_extension": ".py",
   "mimetype": "text/x-python",
   "name": "python",
   "nbconvert_exporter": "python",
   "pygments_lexer": "ipython3",
   "version": "3.8.1-final"
  }
 },
 "nbformat": 4,
 "nbformat_minor": 4
}